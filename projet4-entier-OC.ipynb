{
 "cells": [
  {
   "cell_type": "code",
   "execution_count": null,
   "metadata": {},
   "outputs": [],
   "source": [
    "Projet4"
   ]
  },
  {
   "cell_type": "code",
   "execution_count": 44,
   "metadata": {},
   "outputs": [],
   "source": [
    "import pandas as pd\n",
    "import numpy as np\n",
    "import matplotlib.pyplot as plt\n",
    "import seaborn as sns\n",
    "from datetime import datetime\n",
    "import numpy as np\n",
    "from scipy import stats \n",
    "import matplotlib.pyplot as plt\n",
    "from matplotlib.ticker import NullFormatter\n",
    "import matplotlib.ticker as ticker\n",
    "%matplotlib inline\n",
    "import scipy.stats as st\n",
    "from datetime import datetime\n",
    "import seaborn as sns\n",
    "import statsmodels.api as sm\n",
    "from scipy.stats import chi2_contingency\n",
    "from scipy.stats import chi2\n",
    "from statsmodels.graphics.mosaicplot import mosaic\n",
    "from pylab import figure, axes, pie, title, show"
   ]
  },
  {
   "cell_type": "code",
   "execution_count": 2,
   "metadata": {
    "scrolled": true
   },
   "outputs": [
    {
     "data": {
      "text/html": [
       "<div>\n",
       "<style scoped>\n",
       "    .dataframe tbody tr th:only-of-type {\n",
       "        vertical-align: middle;\n",
       "    }\n",
       "\n",
       "    .dataframe tbody tr th {\n",
       "        vertical-align: top;\n",
       "    }\n",
       "\n",
       "    .dataframe thead th {\n",
       "        text-align: right;\n",
       "    }\n",
       "</style>\n",
       "<table border=\"1\" class=\"dataframe\">\n",
       "  <thead>\n",
       "    <tr style=\"text-align: right;\">\n",
       "      <th></th>\n",
       "      <th>client_id</th>\n",
       "      <th>sex</th>\n",
       "      <th>birth</th>\n",
       "    </tr>\n",
       "  </thead>\n",
       "  <tbody>\n",
       "    <tr>\n",
       "      <th>0</th>\n",
       "      <td>c_4410</td>\n",
       "      <td>f</td>\n",
       "      <td>1967</td>\n",
       "    </tr>\n",
       "    <tr>\n",
       "      <th>1</th>\n",
       "      <td>c_7839</td>\n",
       "      <td>f</td>\n",
       "      <td>1975</td>\n",
       "    </tr>\n",
       "    <tr>\n",
       "      <th>2</th>\n",
       "      <td>c_1699</td>\n",
       "      <td>f</td>\n",
       "      <td>1984</td>\n",
       "    </tr>\n",
       "    <tr>\n",
       "      <th>3</th>\n",
       "      <td>c_5961</td>\n",
       "      <td>f</td>\n",
       "      <td>1962</td>\n",
       "    </tr>\n",
       "    <tr>\n",
       "      <th>4</th>\n",
       "      <td>c_5320</td>\n",
       "      <td>m</td>\n",
       "      <td>1943</td>\n",
       "    </tr>\n",
       "  </tbody>\n",
       "</table>\n",
       "</div>"
      ],
      "text/plain": [
       "  client_id sex  birth\n",
       "0    c_4410   f   1967\n",
       "1    c_7839   f   1975\n",
       "2    c_1699   f   1984\n",
       "3    c_5961   f   1962\n",
       "4    c_5320   m   1943"
      ]
     },
     "execution_count": 2,
     "metadata": {},
     "output_type": "execute_result"
    }
   ],
   "source": [
    "custom = pd.read_csv(r'/Users/Philippe/Documents/python/scripts/P4/customers.csv')\n",
    "prod = pd.read_csv(r'/Users/Philippe/Documents/python/scripts/P4/products.csv')\n",
    "transac = pd.read_csv(r'/Users/Philippe/Documents/python/scripts/P4/transactions.csv')\n",
    "\n",
    "custom.head(5)"
   ]
  },
  {
   "cell_type": "code",
   "execution_count": 3,
   "metadata": {
    "scrolled": true
   },
   "outputs": [
    {
     "data": {
      "text/html": [
       "<div>\n",
       "<style scoped>\n",
       "    .dataframe tbody tr th:only-of-type {\n",
       "        vertical-align: middle;\n",
       "    }\n",
       "\n",
       "    .dataframe tbody tr th {\n",
       "        vertical-align: top;\n",
       "    }\n",
       "\n",
       "    .dataframe thead th {\n",
       "        text-align: right;\n",
       "    }\n",
       "</style>\n",
       "<table border=\"1\" class=\"dataframe\">\n",
       "  <thead>\n",
       "    <tr style=\"text-align: right;\">\n",
       "      <th></th>\n",
       "      <th>id_prod</th>\n",
       "      <th>price</th>\n",
       "      <th>categ</th>\n",
       "    </tr>\n",
       "  </thead>\n",
       "  <tbody>\n",
       "    <tr>\n",
       "      <th>0</th>\n",
       "      <td>0_1421</td>\n",
       "      <td>19.99</td>\n",
       "      <td>0</td>\n",
       "    </tr>\n",
       "    <tr>\n",
       "      <th>1</th>\n",
       "      <td>0_1368</td>\n",
       "      <td>5.13</td>\n",
       "      <td>0</td>\n",
       "    </tr>\n",
       "    <tr>\n",
       "      <th>2</th>\n",
       "      <td>0_731</td>\n",
       "      <td>17.99</td>\n",
       "      <td>0</td>\n",
       "    </tr>\n",
       "    <tr>\n",
       "      <th>3</th>\n",
       "      <td>1_587</td>\n",
       "      <td>4.99</td>\n",
       "      <td>1</td>\n",
       "    </tr>\n",
       "    <tr>\n",
       "      <th>4</th>\n",
       "      <td>0_1507</td>\n",
       "      <td>3.99</td>\n",
       "      <td>0</td>\n",
       "    </tr>\n",
       "  </tbody>\n",
       "</table>\n",
       "</div>"
      ],
      "text/plain": [
       "  id_prod  price  categ\n",
       "0  0_1421  19.99      0\n",
       "1  0_1368   5.13      0\n",
       "2   0_731  17.99      0\n",
       "3   1_587   4.99      1\n",
       "4  0_1507   3.99      0"
      ]
     },
     "execution_count": 3,
     "metadata": {},
     "output_type": "execute_result"
    }
   ],
   "source": [
    "prod.head(5)"
   ]
  },
  {
   "cell_type": "code",
   "execution_count": 4,
   "metadata": {
    "scrolled": true
   },
   "outputs": [
    {
     "data": {
      "text/html": [
       "<div>\n",
       "<style scoped>\n",
       "    .dataframe tbody tr th:only-of-type {\n",
       "        vertical-align: middle;\n",
       "    }\n",
       "\n",
       "    .dataframe tbody tr th {\n",
       "        vertical-align: top;\n",
       "    }\n",
       "\n",
       "    .dataframe thead th {\n",
       "        text-align: right;\n",
       "    }\n",
       "</style>\n",
       "<table border=\"1\" class=\"dataframe\">\n",
       "  <thead>\n",
       "    <tr style=\"text-align: right;\">\n",
       "      <th></th>\n",
       "      <th>id_prod</th>\n",
       "      <th>date</th>\n",
       "      <th>session_id</th>\n",
       "      <th>client_id</th>\n",
       "    </tr>\n",
       "  </thead>\n",
       "  <tbody>\n",
       "    <tr>\n",
       "      <th>0</th>\n",
       "      <td>0_1483</td>\n",
       "      <td>2021-04-10 18:37:28.723910</td>\n",
       "      <td>s_18746</td>\n",
       "      <td>c_4450</td>\n",
       "    </tr>\n",
       "    <tr>\n",
       "      <th>1</th>\n",
       "      <td>2_226</td>\n",
       "      <td>2022-02-03 01:55:53.276402</td>\n",
       "      <td>s_159142</td>\n",
       "      <td>c_277</td>\n",
       "    </tr>\n",
       "    <tr>\n",
       "      <th>2</th>\n",
       "      <td>1_374</td>\n",
       "      <td>2021-09-23 15:13:46.938559</td>\n",
       "      <td>s_94290</td>\n",
       "      <td>c_4270</td>\n",
       "    </tr>\n",
       "    <tr>\n",
       "      <th>3</th>\n",
       "      <td>0_2186</td>\n",
       "      <td>2021-10-17 03:27:18.783634</td>\n",
       "      <td>s_105936</td>\n",
       "      <td>c_4597</td>\n",
       "    </tr>\n",
       "    <tr>\n",
       "      <th>4</th>\n",
       "      <td>0_1351</td>\n",
       "      <td>2021-07-17 20:34:25.800563</td>\n",
       "      <td>s_63642</td>\n",
       "      <td>c_1242</td>\n",
       "    </tr>\n",
       "  </tbody>\n",
       "</table>\n",
       "</div>"
      ],
      "text/plain": [
       "  id_prod                        date session_id client_id\n",
       "0  0_1483  2021-04-10 18:37:28.723910    s_18746    c_4450\n",
       "1   2_226  2022-02-03 01:55:53.276402   s_159142     c_277\n",
       "2   1_374  2021-09-23 15:13:46.938559    s_94290    c_4270\n",
       "3  0_2186  2021-10-17 03:27:18.783634   s_105936    c_4597\n",
       "4  0_1351  2021-07-17 20:34:25.800563    s_63642    c_1242"
      ]
     },
     "execution_count": 4,
     "metadata": {},
     "output_type": "execute_result"
    }
   ],
   "source": [
    "transac.head(5)"
   ]
  },
  {
   "cell_type": "code",
   "execution_count": 5,
   "metadata": {},
   "outputs": [
    {
     "data": {
      "text/html": [
       "<div>\n",
       "<style scoped>\n",
       "    .dataframe tbody tr th:only-of-type {\n",
       "        vertical-align: middle;\n",
       "    }\n",
       "\n",
       "    .dataframe tbody tr th {\n",
       "        vertical-align: top;\n",
       "    }\n",
       "\n",
       "    .dataframe thead th {\n",
       "        text-align: right;\n",
       "    }\n",
       "</style>\n",
       "<table border=\"1\" class=\"dataframe\">\n",
       "  <thead>\n",
       "    <tr style=\"text-align: right;\">\n",
       "      <th></th>\n",
       "      <th>id_prod</th>\n",
       "      <th>price</th>\n",
       "      <th>categ</th>\n",
       "      <th>date</th>\n",
       "      <th>session_id</th>\n",
       "      <th>client_id</th>\n",
       "    </tr>\n",
       "  </thead>\n",
       "  <tbody>\n",
       "    <tr>\n",
       "      <th>0</th>\n",
       "      <td>0_1421</td>\n",
       "      <td>19.99</td>\n",
       "      <td>0.0</td>\n",
       "      <td>2021-05-12 23:26:29.885083</td>\n",
       "      <td>s_33709</td>\n",
       "      <td>c_7954</td>\n",
       "    </tr>\n",
       "    <tr>\n",
       "      <th>1</th>\n",
       "      <td>0_1421</td>\n",
       "      <td>19.99</td>\n",
       "      <td>0.0</td>\n",
       "      <td>2022-01-25 11:27:39.357012</td>\n",
       "      <td>s_154957</td>\n",
       "      <td>c_254</td>\n",
       "    </tr>\n",
       "    <tr>\n",
       "      <th>2</th>\n",
       "      <td>0_1421</td>\n",
       "      <td>19.99</td>\n",
       "      <td>0.0</td>\n",
       "      <td>2022-01-02 22:29:33.796003</td>\n",
       "      <td>s_144068</td>\n",
       "      <td>c_5770</td>\n",
       "    </tr>\n",
       "    <tr>\n",
       "      <th>3</th>\n",
       "      <td>0_1421</td>\n",
       "      <td>19.99</td>\n",
       "      <td>0.0</td>\n",
       "      <td>2021-03-05 17:10:40.265676</td>\n",
       "      <td>s_2187</td>\n",
       "      <td>c_1455</td>\n",
       "    </tr>\n",
       "    <tr>\n",
       "      <th>4</th>\n",
       "      <td>0_1421</td>\n",
       "      <td>19.99</td>\n",
       "      <td>0.0</td>\n",
       "      <td>2021-03-29 13:55:04.422637</td>\n",
       "      <td>s_13112</td>\n",
       "      <td>c_2768</td>\n",
       "    </tr>\n",
       "  </tbody>\n",
       "</table>\n",
       "</div>"
      ],
      "text/plain": [
       "  id_prod  price  categ                        date session_id client_id\n",
       "0  0_1421  19.99    0.0  2021-05-12 23:26:29.885083    s_33709    c_7954\n",
       "1  0_1421  19.99    0.0  2022-01-25 11:27:39.357012   s_154957     c_254\n",
       "2  0_1421  19.99    0.0  2022-01-02 22:29:33.796003   s_144068    c_5770\n",
       "3  0_1421  19.99    0.0  2021-03-05 17:10:40.265676     s_2187    c_1455\n",
       "4  0_1421  19.99    0.0  2021-03-29 13:55:04.422637    s_13112    c_2768"
      ]
     },
     "execution_count": 5,
     "metadata": {},
     "output_type": "execute_result"
    }
   ],
   "source": [
    "df1= prod.merge(transac, 'right')\n",
    "df1.head()"
   ]
  },
  {
   "cell_type": "code",
   "execution_count": 6,
   "metadata": {},
   "outputs": [
    {
     "data": {
      "text/html": [
       "<div>\n",
       "<style scoped>\n",
       "    .dataframe tbody tr th:only-of-type {\n",
       "        vertical-align: middle;\n",
       "    }\n",
       "\n",
       "    .dataframe tbody tr th {\n",
       "        vertical-align: top;\n",
       "    }\n",
       "\n",
       "    .dataframe thead th {\n",
       "        text-align: right;\n",
       "    }\n",
       "</style>\n",
       "<table border=\"1\" class=\"dataframe\">\n",
       "  <thead>\n",
       "    <tr style=\"text-align: right;\">\n",
       "      <th></th>\n",
       "      <th>client_id</th>\n",
       "      <th>sex</th>\n",
       "      <th>birth</th>\n",
       "      <th>id_prod</th>\n",
       "      <th>price</th>\n",
       "      <th>categ</th>\n",
       "      <th>date</th>\n",
       "      <th>session_id</th>\n",
       "    </tr>\n",
       "  </thead>\n",
       "  <tbody>\n",
       "    <tr>\n",
       "      <th>0</th>\n",
       "      <td>c_4410</td>\n",
       "      <td>f</td>\n",
       "      <td>1967.0</td>\n",
       "      <td>1_385</td>\n",
       "      <td>25.99</td>\n",
       "      <td>1.0</td>\n",
       "      <td>2021-03-22 01:40:22.782925</td>\n",
       "      <td>s_9707</td>\n",
       "    </tr>\n",
       "    <tr>\n",
       "      <th>1</th>\n",
       "      <td>c_4410</td>\n",
       "      <td>f</td>\n",
       "      <td>1967.0</td>\n",
       "      <td>0_1110</td>\n",
       "      <td>4.71</td>\n",
       "      <td>0.0</td>\n",
       "      <td>2021-11-04 16:28:30.169021</td>\n",
       "      <td>s_114715</td>\n",
       "    </tr>\n",
       "    <tr>\n",
       "      <th>2</th>\n",
       "      <td>c_4410</td>\n",
       "      <td>f</td>\n",
       "      <td>1967.0</td>\n",
       "      <td>0_1111</td>\n",
       "      <td>19.99</td>\n",
       "      <td>0.0</td>\n",
       "      <td>2021-03-22 01:27:49.480137</td>\n",
       "      <td>s_9707</td>\n",
       "    </tr>\n",
       "    <tr>\n",
       "      <th>3</th>\n",
       "      <td>c_4410</td>\n",
       "      <td>f</td>\n",
       "      <td>1967.0</td>\n",
       "      <td>1_461</td>\n",
       "      <td>12.99</td>\n",
       "      <td>1.0</td>\n",
       "      <td>2021-08-11 08:40:47.495793</td>\n",
       "      <td>s_74236</td>\n",
       "    </tr>\n",
       "    <tr>\n",
       "      <th>4</th>\n",
       "      <td>c_4410</td>\n",
       "      <td>f</td>\n",
       "      <td>1967.0</td>\n",
       "      <td>1_536</td>\n",
       "      <td>11.21</td>\n",
       "      <td>1.0</td>\n",
       "      <td>2022-01-18 17:05:07.468131</td>\n",
       "      <td>s_151740</td>\n",
       "    </tr>\n",
       "    <tr>\n",
       "      <th>...</th>\n",
       "      <td>...</td>\n",
       "      <td>...</td>\n",
       "      <td>...</td>\n",
       "      <td>...</td>\n",
       "      <td>...</td>\n",
       "      <td>...</td>\n",
       "      <td>...</td>\n",
       "      <td>...</td>\n",
       "    </tr>\n",
       "    <tr>\n",
       "      <th>337054</th>\n",
       "      <td>NaN</td>\n",
       "      <td>NaN</td>\n",
       "      <td>NaN</td>\n",
       "      <td>0_525</td>\n",
       "      <td>2.99</td>\n",
       "      <td>0.0</td>\n",
       "      <td>NaN</td>\n",
       "      <td>NaN</td>\n",
       "    </tr>\n",
       "    <tr>\n",
       "      <th>337055</th>\n",
       "      <td>NaN</td>\n",
       "      <td>NaN</td>\n",
       "      <td>NaN</td>\n",
       "      <td>2_86</td>\n",
       "      <td>132.36</td>\n",
       "      <td>2.0</td>\n",
       "      <td>NaN</td>\n",
       "      <td>NaN</td>\n",
       "    </tr>\n",
       "    <tr>\n",
       "      <th>337056</th>\n",
       "      <td>NaN</td>\n",
       "      <td>NaN</td>\n",
       "      <td>NaN</td>\n",
       "      <td>0_299</td>\n",
       "      <td>22.99</td>\n",
       "      <td>0.0</td>\n",
       "      <td>NaN</td>\n",
       "      <td>NaN</td>\n",
       "    </tr>\n",
       "    <tr>\n",
       "      <th>337057</th>\n",
       "      <td>NaN</td>\n",
       "      <td>NaN</td>\n",
       "      <td>NaN</td>\n",
       "      <td>0_510</td>\n",
       "      <td>23.66</td>\n",
       "      <td>0.0</td>\n",
       "      <td>NaN</td>\n",
       "      <td>NaN</td>\n",
       "    </tr>\n",
       "    <tr>\n",
       "      <th>337058</th>\n",
       "      <td>NaN</td>\n",
       "      <td>NaN</td>\n",
       "      <td>NaN</td>\n",
       "      <td>0_2308</td>\n",
       "      <td>20.28</td>\n",
       "      <td>0.0</td>\n",
       "      <td>NaN</td>\n",
       "      <td>NaN</td>\n",
       "    </tr>\n",
       "  </tbody>\n",
       "</table>\n",
       "<p>337059 rows × 8 columns</p>\n",
       "</div>"
      ],
      "text/plain": [
       "       client_id  sex   birth id_prod   price  categ  \\\n",
       "0         c_4410    f  1967.0   1_385   25.99    1.0   \n",
       "1         c_4410    f  1967.0  0_1110    4.71    0.0   \n",
       "2         c_4410    f  1967.0  0_1111   19.99    0.0   \n",
       "3         c_4410    f  1967.0   1_461   12.99    1.0   \n",
       "4         c_4410    f  1967.0   1_536   11.21    1.0   \n",
       "...          ...  ...     ...     ...     ...    ...   \n",
       "337054       NaN  NaN     NaN   0_525    2.99    0.0   \n",
       "337055       NaN  NaN     NaN    2_86  132.36    2.0   \n",
       "337056       NaN  NaN     NaN   0_299   22.99    0.0   \n",
       "337057       NaN  NaN     NaN   0_510   23.66    0.0   \n",
       "337058       NaN  NaN     NaN  0_2308   20.28    0.0   \n",
       "\n",
       "                              date session_id  \n",
       "0       2021-03-22 01:40:22.782925     s_9707  \n",
       "1       2021-11-04 16:28:30.169021   s_114715  \n",
       "2       2021-03-22 01:27:49.480137     s_9707  \n",
       "3       2021-08-11 08:40:47.495793    s_74236  \n",
       "4       2022-01-18 17:05:07.468131   s_151740  \n",
       "...                            ...        ...  \n",
       "337054                         NaN        NaN  \n",
       "337055                         NaN        NaN  \n",
       "337056                         NaN        NaN  \n",
       "337057                         NaN        NaN  \n",
       "337058                         NaN        NaN  \n",
       "\n",
       "[337059 rows x 8 columns]"
      ]
     },
     "execution_count": 6,
     "metadata": {},
     "output_type": "execute_result"
    }
   ],
   "source": [
    "\n",
    "\n",
    "df = pd.merge(left=prod,right=transac,how='outer',on='id_prod')\n",
    "\n",
    "df = pd.merge(left=custom,right=df, how='outer',on='client_id')\n",
    "df"
   ]
  },
  {
   "cell_type": "code",
   "execution_count": 7,
   "metadata": {},
   "outputs": [],
   "source": [
    "df.columns = ['custom_id', 'custom_sex', 'custom_birth', 'prod_id', 'prod_price', 'prod_cat', 'transac_date', 'transac_sess_id']"
   ]
  },
  {
   "cell_type": "code",
   "execution_count": 8,
   "metadata": {},
   "outputs": [
    {
     "data": {
      "text/html": [
       "<div>\n",
       "<style scoped>\n",
       "    .dataframe tbody tr th:only-of-type {\n",
       "        vertical-align: middle;\n",
       "    }\n",
       "\n",
       "    .dataframe tbody tr th {\n",
       "        vertical-align: top;\n",
       "    }\n",
       "\n",
       "    .dataframe thead th {\n",
       "        text-align: right;\n",
       "    }\n",
       "</style>\n",
       "<table border=\"1\" class=\"dataframe\">\n",
       "  <thead>\n",
       "    <tr style=\"text-align: right;\">\n",
       "      <th></th>\n",
       "      <th>custom_id</th>\n",
       "      <th>custom_sex</th>\n",
       "      <th>custom_birth</th>\n",
       "      <th>prod_id</th>\n",
       "      <th>prod_price</th>\n",
       "      <th>prod_cat</th>\n",
       "      <th>transac_date</th>\n",
       "      <th>transac_sess_id</th>\n",
       "    </tr>\n",
       "  </thead>\n",
       "  <tbody>\n",
       "    <tr>\n",
       "      <th>0</th>\n",
       "      <td>c_4410</td>\n",
       "      <td>f</td>\n",
       "      <td>1967.0</td>\n",
       "      <td>1_385</td>\n",
       "      <td>25.99</td>\n",
       "      <td>1.0</td>\n",
       "      <td>2021-03-22 01:40:22.782925</td>\n",
       "      <td>s_9707</td>\n",
       "    </tr>\n",
       "    <tr>\n",
       "      <th>1</th>\n",
       "      <td>c_4410</td>\n",
       "      <td>f</td>\n",
       "      <td>1967.0</td>\n",
       "      <td>0_1110</td>\n",
       "      <td>4.71</td>\n",
       "      <td>0.0</td>\n",
       "      <td>2021-11-04 16:28:30.169021</td>\n",
       "      <td>s_114715</td>\n",
       "    </tr>\n",
       "    <tr>\n",
       "      <th>2</th>\n",
       "      <td>c_4410</td>\n",
       "      <td>f</td>\n",
       "      <td>1967.0</td>\n",
       "      <td>0_1111</td>\n",
       "      <td>19.99</td>\n",
       "      <td>0.0</td>\n",
       "      <td>2021-03-22 01:27:49.480137</td>\n",
       "      <td>s_9707</td>\n",
       "    </tr>\n",
       "    <tr>\n",
       "      <th>3</th>\n",
       "      <td>c_4410</td>\n",
       "      <td>f</td>\n",
       "      <td>1967.0</td>\n",
       "      <td>1_461</td>\n",
       "      <td>12.99</td>\n",
       "      <td>1.0</td>\n",
       "      <td>2021-08-11 08:40:47.495793</td>\n",
       "      <td>s_74236</td>\n",
       "    </tr>\n",
       "    <tr>\n",
       "      <th>4</th>\n",
       "      <td>c_4410</td>\n",
       "      <td>f</td>\n",
       "      <td>1967.0</td>\n",
       "      <td>1_536</td>\n",
       "      <td>11.21</td>\n",
       "      <td>1.0</td>\n",
       "      <td>2022-01-18 17:05:07.468131</td>\n",
       "      <td>s_151740</td>\n",
       "    </tr>\n",
       "    <tr>\n",
       "      <th>...</th>\n",
       "      <td>...</td>\n",
       "      <td>...</td>\n",
       "      <td>...</td>\n",
       "      <td>...</td>\n",
       "      <td>...</td>\n",
       "      <td>...</td>\n",
       "      <td>...</td>\n",
       "      <td>...</td>\n",
       "    </tr>\n",
       "    <tr>\n",
       "      <th>337054</th>\n",
       "      <td>NaN</td>\n",
       "      <td>NaN</td>\n",
       "      <td>NaN</td>\n",
       "      <td>0_525</td>\n",
       "      <td>2.99</td>\n",
       "      <td>0.0</td>\n",
       "      <td>NaN</td>\n",
       "      <td>NaN</td>\n",
       "    </tr>\n",
       "    <tr>\n",
       "      <th>337055</th>\n",
       "      <td>NaN</td>\n",
       "      <td>NaN</td>\n",
       "      <td>NaN</td>\n",
       "      <td>2_86</td>\n",
       "      <td>132.36</td>\n",
       "      <td>2.0</td>\n",
       "      <td>NaN</td>\n",
       "      <td>NaN</td>\n",
       "    </tr>\n",
       "    <tr>\n",
       "      <th>337056</th>\n",
       "      <td>NaN</td>\n",
       "      <td>NaN</td>\n",
       "      <td>NaN</td>\n",
       "      <td>0_299</td>\n",
       "      <td>22.99</td>\n",
       "      <td>0.0</td>\n",
       "      <td>NaN</td>\n",
       "      <td>NaN</td>\n",
       "    </tr>\n",
       "    <tr>\n",
       "      <th>337057</th>\n",
       "      <td>NaN</td>\n",
       "      <td>NaN</td>\n",
       "      <td>NaN</td>\n",
       "      <td>0_510</td>\n",
       "      <td>23.66</td>\n",
       "      <td>0.0</td>\n",
       "      <td>NaN</td>\n",
       "      <td>NaN</td>\n",
       "    </tr>\n",
       "    <tr>\n",
       "      <th>337058</th>\n",
       "      <td>NaN</td>\n",
       "      <td>NaN</td>\n",
       "      <td>NaN</td>\n",
       "      <td>0_2308</td>\n",
       "      <td>20.28</td>\n",
       "      <td>0.0</td>\n",
       "      <td>NaN</td>\n",
       "      <td>NaN</td>\n",
       "    </tr>\n",
       "  </tbody>\n",
       "</table>\n",
       "<p>337059 rows × 8 columns</p>\n",
       "</div>"
      ],
      "text/plain": [
       "       custom_id custom_sex  custom_birth prod_id  prod_price  prod_cat  \\\n",
       "0         c_4410          f        1967.0   1_385       25.99       1.0   \n",
       "1         c_4410          f        1967.0  0_1110        4.71       0.0   \n",
       "2         c_4410          f        1967.0  0_1111       19.99       0.0   \n",
       "3         c_4410          f        1967.0   1_461       12.99       1.0   \n",
       "4         c_4410          f        1967.0   1_536       11.21       1.0   \n",
       "...          ...        ...           ...     ...         ...       ...   \n",
       "337054       NaN        NaN           NaN   0_525        2.99       0.0   \n",
       "337055       NaN        NaN           NaN    2_86      132.36       2.0   \n",
       "337056       NaN        NaN           NaN   0_299       22.99       0.0   \n",
       "337057       NaN        NaN           NaN   0_510       23.66       0.0   \n",
       "337058       NaN        NaN           NaN  0_2308       20.28       0.0   \n",
       "\n",
       "                      transac_date transac_sess_id  \n",
       "0       2021-03-22 01:40:22.782925          s_9707  \n",
       "1       2021-11-04 16:28:30.169021        s_114715  \n",
       "2       2021-03-22 01:27:49.480137          s_9707  \n",
       "3       2021-08-11 08:40:47.495793         s_74236  \n",
       "4       2022-01-18 17:05:07.468131        s_151740  \n",
       "...                            ...             ...  \n",
       "337054                         NaN             NaN  \n",
       "337055                         NaN             NaN  \n",
       "337056                         NaN             NaN  \n",
       "337057                         NaN             NaN  \n",
       "337058                         NaN             NaN  \n",
       "\n",
       "[337059 rows x 8 columns]"
      ]
     },
     "execution_count": 8,
     "metadata": {},
     "output_type": "execute_result"
    }
   ],
   "source": [
    "df"
   ]
  },
  {
   "cell_type": "code",
   "execution_count": 9,
   "metadata": {},
   "outputs": [],
   "source": [
    "df_na = df.loc[df.isnull().any(axis=1)]"
   ]
  },
  {
   "cell_type": "code",
   "execution_count": 10,
   "metadata": {},
   "outputs": [],
   "source": [
    "prod_invendus_id = df_na.loc[df.custom_id.isnull(), 'prod_id'].unique()"
   ]
  },
  {
   "cell_type": "code",
   "execution_count": 11,
   "metadata": {},
   "outputs": [],
   "source": [
    "custom_ss_achat_id = df_na.loc[df.prod_id.isnull(), 'custom_id'].unique()"
   ]
  },
  {
   "cell_type": "markdown",
   "metadata": {},
   "source": [
    "Nettoyage des datas"
   ]
  },
  {
   "cell_type": "code",
   "execution_count": 12,
   "metadata": {},
   "outputs": [],
   "source": [
    "df['data_info'] = np.nan"
   ]
  },
  {
   "cell_type": "code",
   "execution_count": 13,
   "metadata": {},
   "outputs": [],
   "source": [
    "df = df.loc[~(df.custom_id.notnull() & (df.custom_id.str.contains('ct')))]"
   ]
  },
  {
   "cell_type": "code",
   "execution_count": 14,
   "metadata": {},
   "outputs": [],
   "source": [
    "test = df[['prod_id', 'prod_cat']].copy()\n",
    "test['equal'] = test['prod_id'].str[0] == test['prod_cat'].astype(str).str[0]"
   ]
  },
  {
   "cell_type": "code",
   "execution_count": 15,
   "metadata": {},
   "outputs": [
    {
     "data": {
      "text/plain": [
       "True"
      ]
     },
     "execution_count": 15,
     "metadata": {},
     "output_type": "execute_result"
    }
   ],
   "source": [
    "test[test['prod_id'].notnull()& test['prod_cat'].notnull()].equal.all()"
   ]
  },
  {
   "cell_type": "code",
   "execution_count": 16,
   "metadata": {
    "scrolled": true
   },
   "outputs": [
    {
     "name": "stderr",
     "output_type": "stream",
     "text": [
      "c:\\users\\philippe\\appdata\\local\\programs\\python\\python38-32\\lib\\site-packages\\pandas\\core\\indexing.py:494: SettingWithCopyWarning: \n",
      "A value is trying to be set on a copy of a slice from a DataFrame.\n",
      "Try using .loc[row_indexer,col_indexer] = value instead\n",
      "\n",
      "See the caveats in the documentation: http://pandas.pydata.org/pandas-docs/stable/user_guide/indexing.html#returning-a-view-versus-a-copy\n",
      "  self.obj[item] = s\n"
     ]
    }
   ],
   "source": [
    "\n",
    "\n",
    "cat = 0\n",
    "df.loc[df.prod_id=='0_2245', 'prod_cat'] = cat"
   ]
  },
  {
   "cell_type": "code",
   "execution_count": 17,
   "metadata": {},
   "outputs": [],
   "source": [
    "cat1_price_mean = df.loc[df.prod_cat == cat, 'prod_price'].mean()\n",
    "df.loc[df.prod_id=='0_2245', 'prod_price'] = cat1_price_mean"
   ]
  },
  {
   "cell_type": "code",
   "execution_count": 18,
   "metadata": {},
   "outputs": [],
   "source": [
    "df.loc[df.prod_id=='0_2245', 'data_info'] = 'product_imputation'"
   ]
  },
  {
   "cell_type": "code",
   "execution_count": 19,
   "metadata": {},
   "outputs": [
    {
     "data": {
      "text/html": [
       "<div>\n",
       "<style scoped>\n",
       "    .dataframe tbody tr th:only-of-type {\n",
       "        vertical-align: middle;\n",
       "    }\n",
       "\n",
       "    .dataframe tbody tr th {\n",
       "        vertical-align: top;\n",
       "    }\n",
       "\n",
       "    .dataframe thead th {\n",
       "        text-align: right;\n",
       "    }\n",
       "</style>\n",
       "<table border=\"1\" class=\"dataframe\">\n",
       "  <thead>\n",
       "    <tr style=\"text-align: right;\">\n",
       "      <th></th>\n",
       "      <th>prod_id</th>\n",
       "      <th>prod_cat</th>\n",
       "      <th>prod_price</th>\n",
       "    </tr>\n",
       "  </thead>\n",
       "  <tbody>\n",
       "    <tr>\n",
       "      <th>2678</th>\n",
       "      <td>0_2245</td>\n",
       "      <td>0.0</td>\n",
       "      <td>10.647072</td>\n",
       "    </tr>\n",
       "  </tbody>\n",
       "</table>\n",
       "</div>"
      ],
      "text/plain": [
       "     prod_id  prod_cat  prod_price\n",
       "2678  0_2245       0.0   10.647072"
      ]
     },
     "execution_count": 19,
     "metadata": {},
     "output_type": "execute_result"
    }
   ],
   "source": [
    "df.loc[df.prod_id=='0_2245', ['prod_id', 'prod_cat', 'prod_price']].drop_duplicates()"
   ]
  },
  {
   "cell_type": "code",
   "execution_count": 20,
   "metadata": {},
   "outputs": [],
   "source": [
    "def datadate(value):\n",
    "    if pd.isnull(value):\n",
    "        return value\n",
    "    else:\n",
    "        return datetime.strptime(value, '%Y-%m-%d %H:%M:%S.%f')"
   ]
  },
  {
   "cell_type": "code",
   "execution_count": 21,
   "metadata": {
    "scrolled": true
   },
   "outputs": [
    {
     "name": "stderr",
     "output_type": "stream",
     "text": [
      "<ipython-input-21-f8327082639f>:1: SettingWithCopyWarning: \n",
      "A value is trying to be set on a copy of a slice from a DataFrame.\n",
      "Try using .loc[row_indexer,col_indexer] = value instead\n",
      "\n",
      "See the caveats in the documentation: http://pandas.pydata.org/pandas-docs/stable/user_guide/indexing.html#returning-a-view-versus-a-copy\n",
      "  df['transac_date'] = df['transac_date'].apply(toDate)\n"
     ]
    }
   ],
   "source": [
    "df['transac_date'] = df['transac_date'].apply(datadate)"
   ]
  },
  {
   "cell_type": "code",
   "execution_count": 22,
   "metadata": {},
   "outputs": [
    {
     "name": "stderr",
     "output_type": "stream",
     "text": [
      "<ipython-input-22-1edc2f3c23a0>:1: SettingWithCopyWarning: \n",
      "A value is trying to be set on a copy of a slice from a DataFrame.\n",
      "Try using .loc[row_indexer,col_indexer] = value instead\n",
      "\n",
      "See the caveats in the documentation: http://pandas.pydata.org/pandas-docs/stable/user_guide/indexing.html#returning-a-view-versus-a-copy\n",
      "  df['prod_cat'] = df['prod_cat'].fillna(-1)\n",
      "<ipython-input-22-1edc2f3c23a0>:2: SettingWithCopyWarning: \n",
      "A value is trying to be set on a copy of a slice from a DataFrame.\n",
      "Try using .loc[row_indexer,col_indexer] = value instead\n",
      "\n",
      "See the caveats in the documentation: http://pandas.pydata.org/pandas-docs/stable/user_guide/indexing.html#returning-a-view-versus-a-copy\n",
      "  df['prod_cat'] = df['prod_cat'].apply(lambda x: str(int(x)))\n",
      "<ipython-input-22-1edc2f3c23a0>:3: SettingWithCopyWarning: \n",
      "A value is trying to be set on a copy of a slice from a DataFrame.\n",
      "Try using .loc[row_indexer,col_indexer] = value instead\n",
      "\n",
      "See the caveats in the documentation: http://pandas.pydata.org/pandas-docs/stable/user_guide/indexing.html#returning-a-view-versus-a-copy\n",
      "  df['prod_cat'] = df['prod_cat'].replace('-1', np.nan)\n"
     ]
    }
   ],
   "source": [
    "df['prod_cat'] = df['prod_cat'].fillna(-1)\n",
    "df['prod_cat'] = df['prod_cat'].apply(lambda x: str(int(x)))\n",
    "df['prod_cat'] = df['prod_cat'].replace('-1', np.nan)"
   ]
  },
  {
   "cell_type": "code",
   "execution_count": 23,
   "metadata": {},
   "outputs": [
    {
     "name": "stderr",
     "output_type": "stream",
     "text": [
      "<ipython-input-23-267d76c84ce7>:1: SettingWithCopyWarning: \n",
      "A value is trying to be set on a copy of a slice from a DataFrame.\n",
      "Try using .loc[row_indexer,col_indexer] = value instead\n",
      "\n",
      "See the caveats in the documentation: http://pandas.pydata.org/pandas-docs/stable/user_guide/indexing.html#returning-a-view-versus-a-copy\n",
      "  df['transac_acheteur_age'] = df['transac_date'].dt.year - df['custom_birth']\n"
     ]
    }
   ],
   "source": [
    "df['transac_acheteur_age'] = df['transac_date'].dt.year - df['custom_birth']"
   ]
  },
  {
   "cell_type": "code",
   "execution_count": 24,
   "metadata": {
    "scrolled": true
   },
   "outputs": [
    {
     "data": {
      "text/html": [
       "<div>\n",
       "<style scoped>\n",
       "    .dataframe tbody tr th:only-of-type {\n",
       "        vertical-align: middle;\n",
       "    }\n",
       "\n",
       "    .dataframe tbody tr th {\n",
       "        vertical-align: top;\n",
       "    }\n",
       "\n",
       "    .dataframe thead th {\n",
       "        text-align: right;\n",
       "    }\n",
       "</style>\n",
       "<table border=\"1\" class=\"dataframe\">\n",
       "  <thead>\n",
       "    <tr style=\"text-align: right;\">\n",
       "      <th></th>\n",
       "      <th>custom_id</th>\n",
       "      <th>custom_sex</th>\n",
       "      <th>custom_birth</th>\n",
       "      <th>prod_id</th>\n",
       "      <th>prod_price</th>\n",
       "      <th>prod_cat</th>\n",
       "      <th>transac_date</th>\n",
       "      <th>transac_sess_id</th>\n",
       "      <th>data_info</th>\n",
       "      <th>transac_acheteur_age</th>\n",
       "    </tr>\n",
       "  </thead>\n",
       "  <tbody>\n",
       "    <tr>\n",
       "      <th>0</th>\n",
       "      <td>c_4410</td>\n",
       "      <td>f</td>\n",
       "      <td>1967.0</td>\n",
       "      <td>1_385</td>\n",
       "      <td>25.99</td>\n",
       "      <td>1</td>\n",
       "      <td>2021-03-22 01:40:22.782925</td>\n",
       "      <td>s_9707</td>\n",
       "      <td>NaN</td>\n",
       "      <td>54.0</td>\n",
       "    </tr>\n",
       "    <tr>\n",
       "      <th>1</th>\n",
       "      <td>c_4410</td>\n",
       "      <td>f</td>\n",
       "      <td>1967.0</td>\n",
       "      <td>0_1110</td>\n",
       "      <td>4.71</td>\n",
       "      <td>0</td>\n",
       "      <td>2021-11-04 16:28:30.169021</td>\n",
       "      <td>s_114715</td>\n",
       "      <td>NaN</td>\n",
       "      <td>54.0</td>\n",
       "    </tr>\n",
       "    <tr>\n",
       "      <th>2</th>\n",
       "      <td>c_4410</td>\n",
       "      <td>f</td>\n",
       "      <td>1967.0</td>\n",
       "      <td>0_1111</td>\n",
       "      <td>19.99</td>\n",
       "      <td>0</td>\n",
       "      <td>2021-03-22 01:27:49.480137</td>\n",
       "      <td>s_9707</td>\n",
       "      <td>NaN</td>\n",
       "      <td>54.0</td>\n",
       "    </tr>\n",
       "    <tr>\n",
       "      <th>3</th>\n",
       "      <td>c_4410</td>\n",
       "      <td>f</td>\n",
       "      <td>1967.0</td>\n",
       "      <td>1_461</td>\n",
       "      <td>12.99</td>\n",
       "      <td>1</td>\n",
       "      <td>2021-08-11 08:40:47.495793</td>\n",
       "      <td>s_74236</td>\n",
       "      <td>NaN</td>\n",
       "      <td>54.0</td>\n",
       "    </tr>\n",
       "    <tr>\n",
       "      <th>4</th>\n",
       "      <td>c_4410</td>\n",
       "      <td>f</td>\n",
       "      <td>1967.0</td>\n",
       "      <td>1_536</td>\n",
       "      <td>11.21</td>\n",
       "      <td>1</td>\n",
       "      <td>2022-01-18 17:05:07.468131</td>\n",
       "      <td>s_151740</td>\n",
       "      <td>NaN</td>\n",
       "      <td>55.0</td>\n",
       "    </tr>\n",
       "    <tr>\n",
       "      <th>...</th>\n",
       "      <td>...</td>\n",
       "      <td>...</td>\n",
       "      <td>...</td>\n",
       "      <td>...</td>\n",
       "      <td>...</td>\n",
       "      <td>...</td>\n",
       "      <td>...</td>\n",
       "      <td>...</td>\n",
       "      <td>...</td>\n",
       "      <td>...</td>\n",
       "    </tr>\n",
       "    <tr>\n",
       "      <th>337054</th>\n",
       "      <td>NaN</td>\n",
       "      <td>NaN</td>\n",
       "      <td>NaN</td>\n",
       "      <td>0_525</td>\n",
       "      <td>2.99</td>\n",
       "      <td>0</td>\n",
       "      <td>NaT</td>\n",
       "      <td>NaN</td>\n",
       "      <td>NaN</td>\n",
       "      <td>NaN</td>\n",
       "    </tr>\n",
       "    <tr>\n",
       "      <th>337055</th>\n",
       "      <td>NaN</td>\n",
       "      <td>NaN</td>\n",
       "      <td>NaN</td>\n",
       "      <td>2_86</td>\n",
       "      <td>132.36</td>\n",
       "      <td>2</td>\n",
       "      <td>NaT</td>\n",
       "      <td>NaN</td>\n",
       "      <td>NaN</td>\n",
       "      <td>NaN</td>\n",
       "    </tr>\n",
       "    <tr>\n",
       "      <th>337056</th>\n",
       "      <td>NaN</td>\n",
       "      <td>NaN</td>\n",
       "      <td>NaN</td>\n",
       "      <td>0_299</td>\n",
       "      <td>22.99</td>\n",
       "      <td>0</td>\n",
       "      <td>NaT</td>\n",
       "      <td>NaN</td>\n",
       "      <td>NaN</td>\n",
       "      <td>NaN</td>\n",
       "    </tr>\n",
       "    <tr>\n",
       "      <th>337057</th>\n",
       "      <td>NaN</td>\n",
       "      <td>NaN</td>\n",
       "      <td>NaN</td>\n",
       "      <td>0_510</td>\n",
       "      <td>23.66</td>\n",
       "      <td>0</td>\n",
       "      <td>NaT</td>\n",
       "      <td>NaN</td>\n",
       "      <td>NaN</td>\n",
       "      <td>NaN</td>\n",
       "    </tr>\n",
       "    <tr>\n",
       "      <th>337058</th>\n",
       "      <td>NaN</td>\n",
       "      <td>NaN</td>\n",
       "      <td>NaN</td>\n",
       "      <td>0_2308</td>\n",
       "      <td>20.28</td>\n",
       "      <td>0</td>\n",
       "      <td>NaT</td>\n",
       "      <td>NaN</td>\n",
       "      <td>NaN</td>\n",
       "      <td>NaN</td>\n",
       "    </tr>\n",
       "  </tbody>\n",
       "</table>\n",
       "<p>336859 rows × 10 columns</p>\n",
       "</div>"
      ],
      "text/plain": [
       "       custom_id custom_sex  custom_birth prod_id  prod_price prod_cat  \\\n",
       "0         c_4410          f        1967.0   1_385       25.99        1   \n",
       "1         c_4410          f        1967.0  0_1110        4.71        0   \n",
       "2         c_4410          f        1967.0  0_1111       19.99        0   \n",
       "3         c_4410          f        1967.0   1_461       12.99        1   \n",
       "4         c_4410          f        1967.0   1_536       11.21        1   \n",
       "...          ...        ...           ...     ...         ...      ...   \n",
       "337054       NaN        NaN           NaN   0_525        2.99        0   \n",
       "337055       NaN        NaN           NaN    2_86      132.36        2   \n",
       "337056       NaN        NaN           NaN   0_299       22.99        0   \n",
       "337057       NaN        NaN           NaN   0_510       23.66        0   \n",
       "337058       NaN        NaN           NaN  0_2308       20.28        0   \n",
       "\n",
       "                     transac_date transac_sess_id data_info  \\\n",
       "0      2021-03-22 01:40:22.782925          s_9707       NaN   \n",
       "1      2021-11-04 16:28:30.169021        s_114715       NaN   \n",
       "2      2021-03-22 01:27:49.480137          s_9707       NaN   \n",
       "3      2021-08-11 08:40:47.495793         s_74236       NaN   \n",
       "4      2022-01-18 17:05:07.468131        s_151740       NaN   \n",
       "...                           ...             ...       ...   \n",
       "337054                        NaT             NaN       NaN   \n",
       "337055                        NaT             NaN       NaN   \n",
       "337056                        NaT             NaN       NaN   \n",
       "337057                        NaT             NaN       NaN   \n",
       "337058                        NaT             NaN       NaN   \n",
       "\n",
       "        transac_acheteur_age  \n",
       "0                       54.0  \n",
       "1                       54.0  \n",
       "2                       54.0  \n",
       "3                       54.0  \n",
       "4                       55.0  \n",
       "...                      ...  \n",
       "337054                   NaN  \n",
       "337055                   NaN  \n",
       "337056                   NaN  \n",
       "337057                   NaN  \n",
       "337058                   NaN  \n",
       "\n",
       "[336859 rows x 10 columns]"
      ]
     },
     "execution_count": 24,
     "metadata": {},
     "output_type": "execute_result"
    }
   ],
   "source": [
    "df"
   ]
  },
  {
   "cell_type": "code",
   "execution_count": 25,
   "metadata": {},
   "outputs": [],
   "source": [
    "def split_age(age):\n",
    "    tranches = [\n",
    "        {'bornes': (0,30), 'label': '30-'},\n",
    "        {'bornes': (31,50), 'label': '31-50'},\n",
    "        {'bornes': (51,70), 'label': '51-70'},\n",
    "        {'bornes': (71,120),'label': '71+'}\n",
    "    ]\n",
    "    for t in tranches:\n",
    "        if t['bornes'][0] <= age <= t['bornes'][1]:\n",
    "            return t['label']"
   ]
  },
  {
   "cell_type": "code",
   "execution_count": 26,
   "metadata": {
    "scrolled": true
   },
   "outputs": [
    {
     "name": "stderr",
     "output_type": "stream",
     "text": [
      "<ipython-input-26-a3a566fa2682>:1: SettingWithCopyWarning: \n",
      "A value is trying to be set on a copy of a slice from a DataFrame.\n",
      "Try using .loc[row_indexer,col_indexer] = value instead\n",
      "\n",
      "See the caveats in the documentation: http://pandas.pydata.org/pandas-docs/stable/user_guide/indexing.html#returning-a-view-versus-a-copy\n",
      "  df['transac_acheteur_age_range'] = df['transac_acheteur_age'].apply(split_age)\n"
     ]
    }
   ],
   "source": [
    "df['transac_acheteur_age_range'] = df['transac_acheteur_age'].apply(split_age)"
   ]
  },
  {
   "cell_type": "code",
   "execution_count": 27,
   "metadata": {},
   "outputs": [
    {
     "name": "stderr",
     "output_type": "stream",
     "text": [
      "<ipython-input-27-f1e0dd66bda7>:2: SettingWithCopyWarning: \n",
      "A value is trying to be set on a copy of a slice from a DataFrame.\n",
      "Try using .loc[row_indexer,col_indexer] = value instead\n",
      "\n",
      "See the caveats in the documentation: http://pandas.pydata.org/pandas-docs/stable/user_guide/indexing.html#returning-a-view-versus-a-copy\n",
      "  df['custom_age']  = annee - df['custom_birth']\n"
     ]
    }
   ],
   "source": [
    "annee = 2022\n",
    "df['custom_age']  = annee - df['custom_birth']"
   ]
  },
  {
   "cell_type": "code",
   "execution_count": 28,
   "metadata": {},
   "outputs": [
    {
     "name": "stderr",
     "output_type": "stream",
     "text": [
      "<ipython-input-28-0ec315efb45f>:1: SettingWithCopyWarning: \n",
      "A value is trying to be set on a copy of a slice from a DataFrame.\n",
      "Try using .loc[row_indexer,col_indexer] = value instead\n",
      "\n",
      "See the caveats in the documentation: http://pandas.pydata.org/pandas-docs/stable/user_guide/indexing.html#returning-a-view-versus-a-copy\n",
      "  df['custom_age_range'] = df['custom_age'].apply(split_age)\n"
     ]
    }
   ],
   "source": [
    "df['custom_age_range'] = df['custom_age'].apply(split_age)"
   ]
  },
  {
   "cell_type": "code",
   "execution_count": 29,
   "metadata": {},
   "outputs": [
    {
     "name": "stderr",
     "output_type": "stream",
     "text": [
      "<ipython-input-29-dd28e6b0229f>:1: FutureWarning: `Series.plot()` should not be called with positional arguments, only keyword arguments. The order of positional arguments will change in the future. Use `Series.plot(kind='hist')` instead of `Series.plot('hist',)`.\n",
      "  df[['custom_id', 'custom_age']].drop_duplicates().custom_age.plot('hist', bins=100)\n"
     ]
    },
    {
     "data": {
      "text/plain": [
       "[]"
      ]
     },
     "execution_count": 29,
     "metadata": {},
     "output_type": "execute_result"
    },
    {
     "data": {
      "image/png": "[encoded data removed]",
      "text/plain": [
       "<Figure size 432x288 with 1 Axes>"
      ]
     },
     "metadata": {
      "needs_background": "light"
     },
     "output_type": "display_data"
    }
   ],
   "source": [
    "df[['custom_id', 'custom_age']].drop_duplicates().custom_age.plot('hist', bins=100)\n",
    "plt.plot()"
   ]
  },
  {
   "cell_type": "code",
   "execution_count": 30,
   "metadata": {},
   "outputs": [],
   "source": [
    "df.loc[df.custom_age == 18, 'data_info'] = 'age_out'"
   ]
  },
  {
   "cell_type": "code",
   "execution_count": 31,
   "metadata": {},
   "outputs": [
    {
     "name": "stderr",
     "output_type": "stream",
     "text": [
      "<ipython-input-31-5ffaffac84c5>:2: SettingWithCopyWarning: \n",
      "A value is trying to be set on a copy of a slice from a DataFrame.\n",
      "Try using .loc[row_indexer,col_indexer] = value instead\n",
      "\n",
      "See the caveats in the documentation: http://pandas.pydata.org/pandas-docs/stable/user_guide/indexing.html#returning-a-view-versus-a-copy\n",
      "  df['transac_month'] = df['transac_date'].dt.month\n",
      "<ipython-input-31-5ffaffac84c5>:4: SettingWithCopyWarning: \n",
      "A value is trying to be set on a copy of a slice from a DataFrame.\n",
      "Try using .loc[row_indexer,col_indexer] = value instead\n",
      "\n",
      "See the caveats in the documentation: http://pandas.pydata.org/pandas-docs/stable/user_guide/indexing.html#returning-a-view-versus-a-copy\n",
      "  df['transac_month_part'] = (df['transac_date'].dt.day / (df['transac_date'].dt.days_in_month/4+1)).apply(lambda x: str(x)[0])\n",
      "<ipython-input-31-5ffaffac84c5>:6: SettingWithCopyWarning: \n",
      "A value is trying to be set on a copy of a slice from a DataFrame.\n",
      "Try using .loc[row_indexer,col_indexer] = value instead\n",
      "\n",
      "See the caveats in the documentation: http://pandas.pydata.org/pandas-docs/stable/user_guide/indexing.html#returning-a-view-versus-a-copy\n",
      "  df['transac_weekday'] = df['transac_date'].dt.dayofweek\n",
      "<ipython-input-31-5ffaffac84c5>:8: SettingWithCopyWarning: \n",
      "A value is trying to be set on a copy of a slice from a DataFrame.\n",
      "Try using .loc[row_indexer,col_indexer] = value instead\n",
      "\n",
      "See the caveats in the documentation: http://pandas.pydata.org/pandas-docs/stable/user_guide/indexing.html#returning-a-view-versus-a-copy\n",
      "  df['transac_hour'] = df['transac_date'].dt.hour\n"
     ]
    }
   ],
   "source": [
    "\n",
    "df['transac_month'] = df['transac_date'].dt.month\n",
    "\n",
    "df['transac_month_part'] = (df['transac_date'].dt.day / (df['transac_date'].dt.days_in_month/4+1)).apply(lambda x: str(x)[0])\n",
    "\n",
    "df['transac_weekday'] = df['transac_date'].dt.dayofweek\n",
    "\n",
    "df['transac_hour'] = df['transac_date'].dt.hour"
   ]
  },
  {
   "cell_type": "code",
   "execution_count": 32,
   "metadata": {},
   "outputs": [],
   "source": [
    "def split_price(price):\n",
    "    tranches = [\n",
    "        {'bornes': (0,4),  'label': 'very_cheap 3-'},\n",
    "        {'bornes': (4,10), 'label': 'cheap 4-9'},\n",
    "        {'bornes': (10,20), 'label': 'medium 10-19'},\n",
    "        {'bornes': (20,80), 'label': 'expensive 20-79'},\n",
    "        {'bornes': (80,500), 'label': 'very_expansive 80+'}\n",
    "    ]\n",
    "    for t in tranches:\n",
    "        if t['bornes'][0] <= price < t['bornes'][1]:\n",
    "            return t['label']"
   ]
  },
  {
   "cell_type": "code",
   "execution_count": 33,
   "metadata": {},
   "outputs": [
    {
     "name": "stderr",
     "output_type": "stream",
     "text": [
      "<ipython-input-33-a149273ddd18>:1: SettingWithCopyWarning: \n",
      "A value is trying to be set on a copy of a slice from a DataFrame.\n",
      "Try using .loc[row_indexer,col_indexer] = value instead\n",
      "\n",
      "See the caveats in the documentation: http://pandas.pydata.org/pandas-docs/stable/user_guide/indexing.html#returning-a-view-versus-a-copy\n",
      "  df['prod_price_range'] = df['prod_price'].apply(split_price)\n"
     ]
    }
   ],
   "source": [
    "df['prod_price_range'] = df['prod_price'].apply(split_price)"
   ]
  },
  {
   "cell_type": "code",
   "execution_count": 34,
   "metadata": {},
   "outputs": [],
   "source": [
    "df = df[[\n",
    "    'custom_id',\n",
    "    'custom_sex',\n",
    "    'custom_birth',\n",
    "    'custom_age',\n",
    "    'custom_age_range',\n",
    "    \n",
    "    'prod_id',\n",
    "    'prod_cat',\n",
    "    'prod_price',\n",
    "    'prod_price_range',\n",
    "    \n",
    "    'transac_sess_id',\n",
    "    'transac_acheteur_age',\n",
    "    'transac_acheteur_age_range',\n",
    "    \n",
    "    'transac_date',\n",
    "    'transac_hour',\n",
    "    'transac_weekday',\n",
    "    'transac_month_part',\n",
    "    'transac_month',\n",
    "    \n",
    "    'data_info'\n",
    "]]"
   ]
  },
  {
   "cell_type": "code",
   "execution_count": 35,
   "metadata": {},
   "outputs": [
    {
     "data": {
      "text/html": [
       "<div>\n",
       "<style scoped>\n",
       "    .dataframe tbody tr th:only-of-type {\n",
       "        vertical-align: middle;\n",
       "    }\n",
       "\n",
       "    .dataframe tbody tr th {\n",
       "        vertical-align: top;\n",
       "    }\n",
       "\n",
       "    .dataframe thead th {\n",
       "        text-align: right;\n",
       "    }\n",
       "</style>\n",
       "<table border=\"1\" class=\"dataframe\">\n",
       "  <thead>\n",
       "    <tr style=\"text-align: right;\">\n",
       "      <th></th>\n",
       "      <th>custom_id</th>\n",
       "      <th>custom_sex</th>\n",
       "      <th>custom_birth</th>\n",
       "      <th>custom_age</th>\n",
       "      <th>custom_age_range</th>\n",
       "      <th>prod_id</th>\n",
       "      <th>prod_cat</th>\n",
       "      <th>prod_price</th>\n",
       "      <th>prod_price_range</th>\n",
       "      <th>transac_sess_id</th>\n",
       "      <th>transac_acheteur_age</th>\n",
       "      <th>transac_acheteur_age_range</th>\n",
       "      <th>transac_date</th>\n",
       "      <th>transac_hour</th>\n",
       "      <th>transac_weekday</th>\n",
       "      <th>transac_month_part</th>\n",
       "      <th>transac_month</th>\n",
       "      <th>data_info</th>\n",
       "    </tr>\n",
       "  </thead>\n",
       "  <tbody>\n",
       "    <tr>\n",
       "      <th>0</th>\n",
       "      <td>c_4410</td>\n",
       "      <td>f</td>\n",
       "      <td>1967.0</td>\n",
       "      <td>55.0</td>\n",
       "      <td>51-70</td>\n",
       "      <td>1_385</td>\n",
       "      <td>1</td>\n",
       "      <td>25.99</td>\n",
       "      <td>expensive 20-79</td>\n",
       "      <td>s_9707</td>\n",
       "      <td>54.0</td>\n",
       "      <td>51-70</td>\n",
       "      <td>2021-03-22 01:40:22.782925</td>\n",
       "      <td>1.0</td>\n",
       "      <td>0.0</td>\n",
       "      <td>2</td>\n",
       "      <td>3.0</td>\n",
       "      <td>NaN</td>\n",
       "    </tr>\n",
       "    <tr>\n",
       "      <th>1</th>\n",
       "      <td>c_4410</td>\n",
       "      <td>f</td>\n",
       "      <td>1967.0</td>\n",
       "      <td>55.0</td>\n",
       "      <td>51-70</td>\n",
       "      <td>0_1110</td>\n",
       "      <td>0</td>\n",
       "      <td>4.71</td>\n",
       "      <td>cheap 4-9</td>\n",
       "      <td>s_114715</td>\n",
       "      <td>54.0</td>\n",
       "      <td>51-70</td>\n",
       "      <td>2021-11-04 16:28:30.169021</td>\n",
       "      <td>16.0</td>\n",
       "      <td>3.0</td>\n",
       "      <td>0</td>\n",
       "      <td>11.0</td>\n",
       "      <td>NaN</td>\n",
       "    </tr>\n",
       "    <tr>\n",
       "      <th>2</th>\n",
       "      <td>c_4410</td>\n",
       "      <td>f</td>\n",
       "      <td>1967.0</td>\n",
       "      <td>55.0</td>\n",
       "      <td>51-70</td>\n",
       "      <td>0_1111</td>\n",
       "      <td>0</td>\n",
       "      <td>19.99</td>\n",
       "      <td>medium 10-19</td>\n",
       "      <td>s_9707</td>\n",
       "      <td>54.0</td>\n",
       "      <td>51-70</td>\n",
       "      <td>2021-03-22 01:27:49.480137</td>\n",
       "      <td>1.0</td>\n",
       "      <td>0.0</td>\n",
       "      <td>2</td>\n",
       "      <td>3.0</td>\n",
       "      <td>NaN</td>\n",
       "    </tr>\n",
       "    <tr>\n",
       "      <th>3</th>\n",
       "      <td>c_4410</td>\n",
       "      <td>f</td>\n",
       "      <td>1967.0</td>\n",
       "      <td>55.0</td>\n",
       "      <td>51-70</td>\n",
       "      <td>1_461</td>\n",
       "      <td>1</td>\n",
       "      <td>12.99</td>\n",
       "      <td>medium 10-19</td>\n",
       "      <td>s_74236</td>\n",
       "      <td>54.0</td>\n",
       "      <td>51-70</td>\n",
       "      <td>2021-08-11 08:40:47.495793</td>\n",
       "      <td>8.0</td>\n",
       "      <td>2.0</td>\n",
       "      <td>1</td>\n",
       "      <td>8.0</td>\n",
       "      <td>NaN</td>\n",
       "    </tr>\n",
       "    <tr>\n",
       "      <th>4</th>\n",
       "      <td>c_4410</td>\n",
       "      <td>f</td>\n",
       "      <td>1967.0</td>\n",
       "      <td>55.0</td>\n",
       "      <td>51-70</td>\n",
       "      <td>1_536</td>\n",
       "      <td>1</td>\n",
       "      <td>11.21</td>\n",
       "      <td>medium 10-19</td>\n",
       "      <td>s_151740</td>\n",
       "      <td>55.0</td>\n",
       "      <td>51-70</td>\n",
       "      <td>2022-01-18 17:05:07.468131</td>\n",
       "      <td>17.0</td>\n",
       "      <td>1.0</td>\n",
       "      <td>2</td>\n",
       "      <td>1.0</td>\n",
       "      <td>NaN</td>\n",
       "    </tr>\n",
       "    <tr>\n",
       "      <th>...</th>\n",
       "      <td>...</td>\n",
       "      <td>...</td>\n",
       "      <td>...</td>\n",
       "      <td>...</td>\n",
       "      <td>...</td>\n",
       "      <td>...</td>\n",
       "      <td>...</td>\n",
       "      <td>...</td>\n",
       "      <td>...</td>\n",
       "      <td>...</td>\n",
       "      <td>...</td>\n",
       "      <td>...</td>\n",
       "      <td>...</td>\n",
       "      <td>...</td>\n",
       "      <td>...</td>\n",
       "      <td>...</td>\n",
       "      <td>...</td>\n",
       "      <td>...</td>\n",
       "    </tr>\n",
       "    <tr>\n",
       "      <th>337054</th>\n",
       "      <td>NaN</td>\n",
       "      <td>NaN</td>\n",
       "      <td>NaN</td>\n",
       "      <td>NaN</td>\n",
       "      <td>None</td>\n",
       "      <td>0_525</td>\n",
       "      <td>0</td>\n",
       "      <td>2.99</td>\n",
       "      <td>very_cheap 3-</td>\n",
       "      <td>NaN</td>\n",
       "      <td>NaN</td>\n",
       "      <td>None</td>\n",
       "      <td>NaT</td>\n",
       "      <td>NaN</td>\n",
       "      <td>NaN</td>\n",
       "      <td>n</td>\n",
       "      <td>NaN</td>\n",
       "      <td>NaN</td>\n",
       "    </tr>\n",
       "    <tr>\n",
       "      <th>337055</th>\n",
       "      <td>NaN</td>\n",
       "      <td>NaN</td>\n",
       "      <td>NaN</td>\n",
       "      <td>NaN</td>\n",
       "      <td>None</td>\n",
       "      <td>2_86</td>\n",
       "      <td>2</td>\n",
       "      <td>132.36</td>\n",
       "      <td>very_expansive 80+</td>\n",
       "      <td>NaN</td>\n",
       "      <td>NaN</td>\n",
       "      <td>None</td>\n",
       "      <td>NaT</td>\n",
       "      <td>NaN</td>\n",
       "      <td>NaN</td>\n",
       "      <td>n</td>\n",
       "      <td>NaN</td>\n",
       "      <td>NaN</td>\n",
       "    </tr>\n",
       "    <tr>\n",
       "      <th>337056</th>\n",
       "      <td>NaN</td>\n",
       "      <td>NaN</td>\n",
       "      <td>NaN</td>\n",
       "      <td>NaN</td>\n",
       "      <td>None</td>\n",
       "      <td>0_299</td>\n",
       "      <td>0</td>\n",
       "      <td>22.99</td>\n",
       "      <td>expensive 20-79</td>\n",
       "      <td>NaN</td>\n",
       "      <td>NaN</td>\n",
       "      <td>None</td>\n",
       "      <td>NaT</td>\n",
       "      <td>NaN</td>\n",
       "      <td>NaN</td>\n",
       "      <td>n</td>\n",
       "      <td>NaN</td>\n",
       "      <td>NaN</td>\n",
       "    </tr>\n",
       "    <tr>\n",
       "      <th>337057</th>\n",
       "      <td>NaN</td>\n",
       "      <td>NaN</td>\n",
       "      <td>NaN</td>\n",
       "      <td>NaN</td>\n",
       "      <td>None</td>\n",
       "      <td>0_510</td>\n",
       "      <td>0</td>\n",
       "      <td>23.66</td>\n",
       "      <td>expensive 20-79</td>\n",
       "      <td>NaN</td>\n",
       "      <td>NaN</td>\n",
       "      <td>None</td>\n",
       "      <td>NaT</td>\n",
       "      <td>NaN</td>\n",
       "      <td>NaN</td>\n",
       "      <td>n</td>\n",
       "      <td>NaN</td>\n",
       "      <td>NaN</td>\n",
       "    </tr>\n",
       "    <tr>\n",
       "      <th>337058</th>\n",
       "      <td>NaN</td>\n",
       "      <td>NaN</td>\n",
       "      <td>NaN</td>\n",
       "      <td>NaN</td>\n",
       "      <td>None</td>\n",
       "      <td>0_2308</td>\n",
       "      <td>0</td>\n",
       "      <td>20.28</td>\n",
       "      <td>expensive 20-79</td>\n",
       "      <td>NaN</td>\n",
       "      <td>NaN</td>\n",
       "      <td>None</td>\n",
       "      <td>NaT</td>\n",
       "      <td>NaN</td>\n",
       "      <td>NaN</td>\n",
       "      <td>n</td>\n",
       "      <td>NaN</td>\n",
       "      <td>NaN</td>\n",
       "    </tr>\n",
       "  </tbody>\n",
       "</table>\n",
       "<p>336859 rows × 18 columns</p>\n",
       "</div>"
      ],
      "text/plain": [
       "       custom_id custom_sex  custom_birth  custom_age custom_age_range  \\\n",
       "0         c_4410          f        1967.0        55.0            51-70   \n",
       "1         c_4410          f        1967.0        55.0            51-70   \n",
       "2         c_4410          f        1967.0        55.0            51-70   \n",
       "3         c_4410          f        1967.0        55.0            51-70   \n",
       "4         c_4410          f        1967.0        55.0            51-70   \n",
       "...          ...        ...           ...         ...              ...   \n",
       "337054       NaN        NaN           NaN         NaN             None   \n",
       "337055       NaN        NaN           NaN         NaN             None   \n",
       "337056       NaN        NaN           NaN         NaN             None   \n",
       "337057       NaN        NaN           NaN         NaN             None   \n",
       "337058       NaN        NaN           NaN         NaN             None   \n",
       "\n",
       "       prod_id prod_cat  prod_price    prod_price_range transac_sess_id  \\\n",
       "0        1_385        1       25.99     expensive 20-79          s_9707   \n",
       "1       0_1110        0        4.71           cheap 4-9        s_114715   \n",
       "2       0_1111        0       19.99        medium 10-19          s_9707   \n",
       "3        1_461        1       12.99        medium 10-19         s_74236   \n",
       "4        1_536        1       11.21        medium 10-19        s_151740   \n",
       "...        ...      ...         ...                 ...             ...   \n",
       "337054   0_525        0        2.99       very_cheap 3-             NaN   \n",
       "337055    2_86        2      132.36  very_expansive 80+             NaN   \n",
       "337056   0_299        0       22.99     expensive 20-79             NaN   \n",
       "337057   0_510        0       23.66     expensive 20-79             NaN   \n",
       "337058  0_2308        0       20.28     expensive 20-79             NaN   \n",
       "\n",
       "        transac_acheteur_age transac_acheteur_age_range  \\\n",
       "0                       54.0                      51-70   \n",
       "1                       54.0                      51-70   \n",
       "2                       54.0                      51-70   \n",
       "3                       54.0                      51-70   \n",
       "4                       55.0                      51-70   \n",
       "...                      ...                        ...   \n",
       "337054                   NaN                       None   \n",
       "337055                   NaN                       None   \n",
       "337056                   NaN                       None   \n",
       "337057                   NaN                       None   \n",
       "337058                   NaN                       None   \n",
       "\n",
       "                     transac_date  transac_hour  transac_weekday  \\\n",
       "0      2021-03-22 01:40:22.782925           1.0              0.0   \n",
       "1      2021-11-04 16:28:30.169021          16.0              3.0   \n",
       "2      2021-03-22 01:27:49.480137           1.0              0.0   \n",
       "3      2021-08-11 08:40:47.495793           8.0              2.0   \n",
       "4      2022-01-18 17:05:07.468131          17.0              1.0   \n",
       "...                           ...           ...              ...   \n",
       "337054                        NaT           NaN              NaN   \n",
       "337055                        NaT           NaN              NaN   \n",
       "337056                        NaT           NaN              NaN   \n",
       "337057                        NaT           NaN              NaN   \n",
       "337058                        NaT           NaN              NaN   \n",
       "\n",
       "       transac_month_part  transac_month data_info  \n",
       "0                       2            3.0       NaN  \n",
       "1                       0           11.0       NaN  \n",
       "2                       2            3.0       NaN  \n",
       "3                       1            8.0       NaN  \n",
       "4                       2            1.0       NaN  \n",
       "...                   ...            ...       ...  \n",
       "337054                  n            NaN       NaN  \n",
       "337055                  n            NaN       NaN  \n",
       "337056                  n            NaN       NaN  \n",
       "337057                  n            NaN       NaN  \n",
       "337058                  n            NaN       NaN  \n",
       "\n",
       "[336859 rows x 18 columns]"
      ]
     },
     "execution_count": 35,
     "metadata": {},
     "output_type": "execute_result"
    }
   ],
   "source": [
    "df"
   ]
  },
  {
   "cell_type": "code",
   "execution_count": 36,
   "metadata": {},
   "outputs": [],
   "source": [
    "products_unsold = df.loc[df['prod_id'].isin(prod_invendus_id), ['prod_id', 'prod_cat', 'prod_price', 'prod_price_range']]"
   ]
  },
  {
   "cell_type": "code",
   "execution_count": 37,
   "metadata": {},
   "outputs": [],
   "source": [
    "customs_no_purchase = df.loc[df['custom_id'].isin(custom_ss_achat_id), ['custom_id', 'custom_sex', 'custom_birth', 'custom_age', 'custom_age_range']]"
   ]
  },
  {
   "cell_type": "code",
   "execution_count": 38,
   "metadata": {},
   "outputs": [],
   "source": [
    "transacdata = df.dropna(subset=['custom_id', 'custom_sex', 'custom_birth', 'custom_age', 'custom_age_range', 'prod_id', 'prod_cat',\n",
    "       'prod_price', 'prod_price_range', 'transac_sess_id', 'transac_acheteur_age',\n",
    "       'transac_acheteur_age_range', 'transac_date', 'transac_hour', 'transac_weekday', 'transac_month_part',\n",
    "       'transac_month'])"
   ]
  },
  {
   "cell_type": "code",
   "execution_count": 39,
   "metadata": {},
   "outputs": [],
   "source": [
    "products_unsold.to_csv(r'C:/Users/Philippe/Documents/python/scripts/P4/produits_invendus.csv', index=False)\n",
    "customs_no_purchase.to_csv(r'C:/Users/Philippe/Documents/python/scripts/P4/clients_sans_achat.csv', index=False)\n",
    "transacdata.to_csv(r'C:/Users/Philippe/Documents/python/scripts/P4/transactionss.csv', index=False)"
   ]
  },
  {
   "cell_type": "code",
   "execution_count": 40,
   "metadata": {
    "scrolled": true
   },
   "outputs": [
    {
     "data": {
      "text/html": [
       "<div>\n",
       "<style scoped>\n",
       "    .dataframe tbody tr th:only-of-type {\n",
       "        vertical-align: middle;\n",
       "    }\n",
       "\n",
       "    .dataframe tbody tr th {\n",
       "        vertical-align: top;\n",
       "    }\n",
       "\n",
       "    .dataframe thead th {\n",
       "        text-align: right;\n",
       "    }\n",
       "</style>\n",
       "<table border=\"1\" class=\"dataframe\">\n",
       "  <thead>\n",
       "    <tr style=\"text-align: right;\">\n",
       "      <th></th>\n",
       "      <th>custom_id</th>\n",
       "      <th>custom_sex</th>\n",
       "      <th>custom_birth</th>\n",
       "      <th>custom_age</th>\n",
       "      <th>custom_age_range</th>\n",
       "      <th>prod_id</th>\n",
       "      <th>prod_cat</th>\n",
       "      <th>prod_price</th>\n",
       "      <th>prod_price_range</th>\n",
       "      <th>transac_sess_id</th>\n",
       "      <th>transac_acheteur_age</th>\n",
       "      <th>transac_acheteur_age_range</th>\n",
       "      <th>transac_date</th>\n",
       "      <th>transac_hour</th>\n",
       "      <th>transac_weekday</th>\n",
       "      <th>transac_month_part</th>\n",
       "      <th>transac_month</th>\n",
       "      <th>data_info</th>\n",
       "    </tr>\n",
       "  </thead>\n",
       "  <tbody>\n",
       "    <tr>\n",
       "      <th>0</th>\n",
       "      <td>c_4410</td>\n",
       "      <td>f</td>\n",
       "      <td>1967.0</td>\n",
       "      <td>55.0</td>\n",
       "      <td>51-70</td>\n",
       "      <td>1_385</td>\n",
       "      <td>1</td>\n",
       "      <td>25.99</td>\n",
       "      <td>expensive 20-79</td>\n",
       "      <td>s_9707</td>\n",
       "      <td>54.0</td>\n",
       "      <td>51-70</td>\n",
       "      <td>2021-03-22 01:40:22.782925</td>\n",
       "      <td>1.0</td>\n",
       "      <td>0.0</td>\n",
       "      <td>2</td>\n",
       "      <td>3.0</td>\n",
       "      <td>NaN</td>\n",
       "    </tr>\n",
       "    <tr>\n",
       "      <th>1</th>\n",
       "      <td>c_4410</td>\n",
       "      <td>f</td>\n",
       "      <td>1967.0</td>\n",
       "      <td>55.0</td>\n",
       "      <td>51-70</td>\n",
       "      <td>0_1110</td>\n",
       "      <td>0</td>\n",
       "      <td>4.71</td>\n",
       "      <td>cheap 4-9</td>\n",
       "      <td>s_114715</td>\n",
       "      <td>54.0</td>\n",
       "      <td>51-70</td>\n",
       "      <td>2021-11-04 16:28:30.169021</td>\n",
       "      <td>16.0</td>\n",
       "      <td>3.0</td>\n",
       "      <td>0</td>\n",
       "      <td>11.0</td>\n",
       "      <td>NaN</td>\n",
       "    </tr>\n",
       "    <tr>\n",
       "      <th>2</th>\n",
       "      <td>c_4410</td>\n",
       "      <td>f</td>\n",
       "      <td>1967.0</td>\n",
       "      <td>55.0</td>\n",
       "      <td>51-70</td>\n",
       "      <td>0_1111</td>\n",
       "      <td>0</td>\n",
       "      <td>19.99</td>\n",
       "      <td>medium 10-19</td>\n",
       "      <td>s_9707</td>\n",
       "      <td>54.0</td>\n",
       "      <td>51-70</td>\n",
       "      <td>2021-03-22 01:27:49.480137</td>\n",
       "      <td>1.0</td>\n",
       "      <td>0.0</td>\n",
       "      <td>2</td>\n",
       "      <td>3.0</td>\n",
       "      <td>NaN</td>\n",
       "    </tr>\n",
       "    <tr>\n",
       "      <th>3</th>\n",
       "      <td>c_4410</td>\n",
       "      <td>f</td>\n",
       "      <td>1967.0</td>\n",
       "      <td>55.0</td>\n",
       "      <td>51-70</td>\n",
       "      <td>1_461</td>\n",
       "      <td>1</td>\n",
       "      <td>12.99</td>\n",
       "      <td>medium 10-19</td>\n",
       "      <td>s_74236</td>\n",
       "      <td>54.0</td>\n",
       "      <td>51-70</td>\n",
       "      <td>2021-08-11 08:40:47.495793</td>\n",
       "      <td>8.0</td>\n",
       "      <td>2.0</td>\n",
       "      <td>1</td>\n",
       "      <td>8.0</td>\n",
       "      <td>NaN</td>\n",
       "    </tr>\n",
       "    <tr>\n",
       "      <th>4</th>\n",
       "      <td>c_4410</td>\n",
       "      <td>f</td>\n",
       "      <td>1967.0</td>\n",
       "      <td>55.0</td>\n",
       "      <td>51-70</td>\n",
       "      <td>1_536</td>\n",
       "      <td>1</td>\n",
       "      <td>11.21</td>\n",
       "      <td>medium 10-19</td>\n",
       "      <td>s_151740</td>\n",
       "      <td>55.0</td>\n",
       "      <td>51-70</td>\n",
       "      <td>2022-01-18 17:05:07.468131</td>\n",
       "      <td>17.0</td>\n",
       "      <td>1.0</td>\n",
       "      <td>2</td>\n",
       "      <td>1.0</td>\n",
       "      <td>NaN</td>\n",
       "    </tr>\n",
       "  </tbody>\n",
       "</table>\n",
       "</div>"
      ],
      "text/plain": [
       "  custom_id custom_sex  custom_birth  custom_age custom_age_range prod_id  \\\n",
       "0    c_4410          f        1967.0        55.0            51-70   1_385   \n",
       "1    c_4410          f        1967.0        55.0            51-70  0_1110   \n",
       "2    c_4410          f        1967.0        55.0            51-70  0_1111   \n",
       "3    c_4410          f        1967.0        55.0            51-70   1_461   \n",
       "4    c_4410          f        1967.0        55.0            51-70   1_536   \n",
       "\n",
       "  prod_cat  prod_price prod_price_range transac_sess_id  transac_acheteur_age  \\\n",
       "0        1       25.99  expensive 20-79          s_9707                  54.0   \n",
       "1        0        4.71        cheap 4-9        s_114715                  54.0   \n",
       "2        0       19.99     medium 10-19          s_9707                  54.0   \n",
       "3        1       12.99     medium 10-19         s_74236                  54.0   \n",
       "4        1       11.21     medium 10-19        s_151740                  55.0   \n",
       "\n",
       "  transac_acheteur_age_range               transac_date  transac_hour  \\\n",
       "0                      51-70 2021-03-22 01:40:22.782925           1.0   \n",
       "1                      51-70 2021-11-04 16:28:30.169021          16.0   \n",
       "2                      51-70 2021-03-22 01:27:49.480137           1.0   \n",
       "3                      51-70 2021-08-11 08:40:47.495793           8.0   \n",
       "4                      51-70 2022-01-18 17:05:07.468131          17.0   \n",
       "\n",
       "   transac_weekday transac_month_part  transac_month data_info  \n",
       "0              0.0                  2            3.0       NaN  \n",
       "1              3.0                  0           11.0       NaN  \n",
       "2              0.0                  2            3.0       NaN  \n",
       "3              2.0                  1            8.0       NaN  \n",
       "4              1.0                  2            1.0       NaN  "
      ]
     },
     "execution_count": 40,
     "metadata": {},
     "output_type": "execute_result"
    }
   ],
   "source": [
    "transacdata.head()"
   ]
  },
  {
   "cell_type": "code",
   "execution_count": null,
   "metadata": {},
   "outputs": [],
   "source": []
  },
  {
   "cell_type": "markdown",
   "metadata": {},
   "source": [
    "MISSION 2"
   ]
  },
  {
   "cell_type": "code",
   "execution_count": 41,
   "metadata": {},
   "outputs": [],
   "source": [
    "products_unsold = pd.read_csv(r'C:\\Users\\Philippe\\Documents\\python\\scripts\\P4\\produits_invendus.csv')\n",
    "customs_no_purchase = pd.read_csv(r'C:\\Users\\Philippe\\Documents\\python\\scripts\\P4\\clients_sans_achat.csv')\n",
    "transacdata = pd.read_csv(r'C:\\Users\\Philippe\\Documents\\python\\scripts\\P4\\transactionss.csv', parse_dates=[12])"
   ]
  },
  {
   "cell_type": "code",
   "execution_count": 47,
   "metadata": {
    "scrolled": true
   },
   "outputs": [
    {
     "data": {
      "image/png": "[encoded data removed]",
      "text/plain": [
       "<Figure size 864x216 with 2 Axes>"
      ]
     },
     "metadata": {
      "needs_background": "light"
     },
     "output_type": "display_data"
    },
    {
     "data": {
      "text/plain": [
       "<Figure size 432x288 with 0 Axes>"
      ]
     },
     "metadata": {},
     "output_type": "display_data"
    }
   ],
   "source": [
    "df = transacdata[['transac_date', 'prod_price']]\n",
    "df = df.sort_values('transac_date').reset_index()\n",
    "df['ca'] = np.cumsum(df.prod_price)\n",
    "df['vol'] = pd.Series(range(len(df))) + 1\n",
    "\n",
    "plt.figure(figsize=(12,3))\n",
    "\n",
    "plt.subplot(1,2,1)\n",
    "plt.plot(df['transac_date'], df['ca'])\n",
    "plt.title('évolution du Chiffre Affaire')\n",
    "\n",
    "plt.subplot(1,2,2)\n",
    "plt.plot(df['transac_date'], df['vol'])\n",
    "plt.title('évolution du volume')\n",
    "plt.show()\n",
    "\n",
    "plt.savefig('evolutionCA-Vol')\n"
   ]
  },
  {
   "cell_type": "code",
   "execution_count": 48,
   "metadata": {},
   "outputs": [
    {
     "name": "stdout",
     "output_type": "stream",
     "text": [
      "transactions de 2021-03-01T00:01:07.843138000 à 2022-02-28T23:59:58.040472000\n"
     ]
    }
   ],
   "source": [
    "dates = transacdata.transac_date.sort_values().values\n",
    "print(f'transactions de {dates[0]:} à {dates[-1]}')"
   ]
  },
  {
   "cell_type": "code",
   "execution_count": 50,
   "metadata": {},
   "outputs": [
    {
     "data": {
      "image/png": "[encoded data removed]",
      "text/plain": [
       "<Figure size 1152x360 with 2 Axes>"
      ]
     },
     "metadata": {
      "needs_background": "light"
     },
     "output_type": "display_data"
    },
    {
     "data": {
      "text/plain": [
       "<Figure size 432x288 with 0 Axes>"
      ]
     },
     "metadata": {},
     "output_type": "display_data"
    },
    {
     "data": {
      "image/png": "[encoded data removed]",
      "text/plain": [
       "<Figure size 1152x360 with 2 Axes>"
      ]
     },
     "metadata": {
      "needs_background": "light"
     },
     "output_type": "display_data"
    },
    {
     "data": {
      "text/plain": [
       "<Figure size 432x288 with 0 Axes>"
      ]
     },
     "metadata": {},
     "output_type": "display_data"
    },
    {
     "data": {
      "image/png": "[encoded data removed]",
      "text/plain": [
       "<Figure size 1152x360 with 2 Axes>"
      ]
     },
     "metadata": {
      "needs_background": "light"
     },
     "output_type": "display_data"
    },
    {
     "data": {
      "text/plain": [
       "<Figure size 432x288 with 0 Axes>"
      ]
     },
     "metadata": {},
     "output_type": "display_data"
    },
    {
     "data": {
      "image/png": "[encoded data removed]",
      "text/plain": [
       "<Figure size 1152x360 with 2 Axes>"
      ]
     },
     "metadata": {
      "needs_background": "light"
     },
     "output_type": "display_data"
    },
    {
     "data": {
      "text/plain": [
       "<Figure size 432x288 with 0 Axes>"
      ]
     },
     "metadata": {},
     "output_type": "display_data"
    }
   ],
   "source": [
    "categ_names = np.sort(transacdata.prod_cat.unique())\n",
    "\n",
    "for time_unit in ['transac_hour', 'transac_weekday', 'transac_month_part','transac_month']:\n",
    "    \n",
    "   \n",
    "    df = transacdata[[time_unit, 'prod_cat', 'prod_price']].groupby([time_unit, 'prod_cat']).agg({'prod_price':['sum', 'count']}).reset_index()\n",
    "    df.columns = [time_unit, 'prod_cat', 'ca', 'vol']\n",
    "    \n",
    "\n",
    "    x = df[time_unit].sort_values().unique()\n",
    "\n",
    "    \n",
    "    categ_vals = []\n",
    "    for cat in categ_names:\n",
    "        ca = df[df.prod_cat == cat].sort_values(time_unit).ca.values\n",
    "        volume = df[df.prod_cat == cat].sort_values(time_unit).vol.values\n",
    "        categ_vals.append({'categ_name': cat, 'ca': ca, 'vol': volume})\n",
    "\n",
    "    plt.figure(figsize=(16,5))\n",
    "    for k, element in enumerate(['ca', 'vol']):\n",
    "        plt.subplot(1,2,k+1)\n",
    "        # pour le ca, puis le volume, on genere le graphique en bar\n",
    "        #colors = ['royalblue', 'limegreen', 'orangered']\n",
    "        colors = ['black', 'red', 'green']\n",
    "        for i, cat in enumerate(categ_names):\n",
    "            plt.bar(x, categ_vals[cat][element], \n",
    "                    color=colors[i],\n",
    "                    label=categ_vals[cat]['categ_name'],\n",
    "                    bottom = np.sum([categ_vals[j][element] for j in range(i)], axis=0))\n",
    "        plt.xlabel(time_unit)\n",
    "        plt.ylabel(element)\n",
    "        plt.legend()\n",
    "\n",
    "    plt.show()\n",
    "    plt.savefig('transac_time')"
   ]
  },
  {
   "cell_type": "code",
   "execution_count": null,
   "metadata": {},
   "outputs": [],
   "source": []
  },
  {
   "cell_type": "code",
   "execution_count": 52,
   "metadata": {},
   "outputs": [],
   "source": [
    "df = transacdata.loc[\n",
    "    :, \n",
    "    ['transac_month', 'prod_price', 'prod_cat']]\n",
    "\n",
    "df = pd.pivot_table(df, index='transac_month', columns=['prod_cat'], aggfunc=['sum', 'count']).reset_index()\n",
    "df.columns = ['transac_month', 'ca_0', 'ca_1', 'ca_2', 'vol0', 'vol1', 'vol2']"
   ]
  },
  {
   "cell_type": "code",
   "execution_count": 53,
   "metadata": {},
   "outputs": [],
   "source": [
    "df = transacdata[['prod_cat', 'prod_price', 'transac_month']]\n",
    "df = pd.pivot_table(df, index='transac_month', columns=['prod_cat'], aggfunc=['sum', 'count']).reset_index()\n",
    "df.columns = ['t_month', 'ca_0', 'ca_1', 'ca_2', 'vol0', 'vol1', 'vol2']"
   ]
  },
  {
   "cell_type": "code",
   "execution_count": 54,
   "metadata": {},
   "outputs": [
    {
     "data": {
      "image/png": "[encoded data removed]",
      "text/plain": [
       "<Figure size 1008x432 with 1 Axes>"
      ]
     },
     "metadata": {
      "needs_background": "light"
     },
     "output_type": "display_data"
    }
   ],
   "source": [
    "\n",
    "df[['ca_0', 'ca_1', 'ca_2']].plot.bar(\n",
    "    figsize=(14,6), \n",
    "    width=0.7, \n",
    "    color=['black', 'red', 'green']\n",
    ")\n",
    "plt.legend(['cat 0', 'cat 1', 'cat 2'])\n",
    "plt.title('evolution mensuelle du CA par cat.')\n",
    "plt.savefig('evolution mensuelle du CA par cat.')"
   ]
  },
  {
   "cell_type": "code",
   "execution_count": 56,
   "metadata": {
    "scrolled": true
   },
   "outputs": [
    {
     "data": {
      "image/png": "[encoded data removed]",
      "text/plain": [
       "<Figure size 1080x216 with 1 Axes>"
      ]
     },
     "metadata": {
      "needs_background": "light"
     },
     "output_type": "display_data"
    }
   ],
   "source": [
    "\n",
    "df[['vol0', 'vol1', 'vol2']].plot.bar(\n",
    "    figsize=(15,3), \n",
    "    width=0.7, \n",
    "    color=['black', 'red', 'green']\n",
    ")\n",
    "plt.title('evolution mensuelle du volume par categories.')\n",
    "plt.savefig('evolution mensuelle du volume par categories.')"
   ]
  },
  {
   "cell_type": "code",
   "execution_count": 57,
   "metadata": {},
   "outputs": [],
   "source": [
    "df = transacdata[['transac_month_part', 'prod_price']].groupby('transac_month_part').agg({'prod_price': ['sum', 'count']}).reset_index()\n",
    "df.columns = ['transac_month_part', 'ca', 'volume']"
   ]
  },
  {
   "cell_type": "code",
   "execution_count": 58,
   "metadata": {},
   "outputs": [],
   "source": [
    "ca_2 = df.loc[df.transac_month_part == 2, 'ca'].values[0]\n",
    "vol_2 = df.loc[df.transac_month_part == 2, 'volume'].values[0]\n",
    "ca_0 = df.loc[df.transac_month_part == 0, 'ca'].values[0]\n",
    "vol_0 = df.loc[df.transac_month_part == 0, 'volume'].values[0]\n",
    "\n",
    "tx_evol_ca = (ca_2 - ca_0) / ca_0\n",
    "tx_evol_vol = (vol_2 - vol_0) / vol_0"
   ]
  },
  {
   "cell_type": "code",
   "execution_count": 59,
   "metadata": {},
   "outputs": [
    {
     "name": "stdout",
     "output_type": "stream",
     "text": [
      "taux d'évolution entre le 1er et 3eme quart de mois : \n",
      " - chiffre d'affaires : 12%\n",
      " - volume : 13%\n"
     ]
    }
   ],
   "source": [
    "print(f\"taux d'évolution entre le 1er et 3eme quart de mois : \")\n",
    "print(f\" - chiffre d'affaires : {tx_evol_ca*100:.0f}%\")\n",
    "print(f\" - volume : {tx_evol_vol*100:.0f}%\")"
   ]
  },
  {
   "cell_type": "code",
   "execution_count": 60,
   "metadata": {},
   "outputs": [],
   "source": [
    "ca_3 = df.loc[df.transac_month_part == 3, 'ca'].values[0]\n",
    "vol_3 = df.loc[df.transac_month_part == 3, 'volume'].values[0]\n",
    "ca_2 = df.loc[df.transac_month_part == 2, 'ca'].values[0]\n",
    "vol_2 = df.loc[df.transac_month_part == 2, 'volume'].values[0]\n",
    "\n",
    "tx_evol_ca = (ca_3 - ca_2) / ca_2\n",
    "tx_evol_vol = (vol_3 - vol_2) / vol_2"
   ]
  },
  {
   "cell_type": "code",
   "execution_count": 61,
   "metadata": {},
   "outputs": [
    {
     "name": "stdout",
     "output_type": "stream",
     "text": [
      "taux d'évolution entre le 3eme et 4eme quart de mois : \n",
      " - chiffre d'affaires : -41%\n",
      " - volume : -42%\n"
     ]
    }
   ],
   "source": [
    "print(f\"taux d'évolution entre le 3eme et 4eme quart de mois : \")\n",
    "print(f\" - chiffre d'affaires : {tx_evol_ca*100:.0f}%\")\n",
    "print(f\" - volume : {tx_evol_vol*100:.0f}%\")"
   ]
  },
  {
   "cell_type": "code",
   "execution_count": 62,
   "metadata": {},
   "outputs": [
    {
     "name": "stdout",
     "output_type": "stream",
     "text": [
      "Taux d'évolution (ca) de sept. à oct.: -37%\n"
     ]
    }
   ],
   "source": [
    "ca_sep = transacdata.loc[transacdata.transac_month==9, 'prod_price'].sum()\n",
    "ca_oct = transacdata.loc[transacdata.transac_month==10, 'prod_price'].sum()\n",
    "\n",
    "taux_evol_oct = (ca_oct - ca_sep) / ca_sep\n",
    "taux_evol_oct\n",
    "\n",
    "print(f\"Taux d'évolution (ca) de sept. à oct.: {taux_evol_oct*100:.0f}%\")"
   ]
  },
  {
   "cell_type": "code",
   "execution_count": 64,
   "metadata": {},
   "outputs": [
    {
     "data": {
      "image/png": "[encoded data removed]",
      "text/plain": [
       "<Figure size 3168x144 with 1 Axes>"
      ]
     },
     "metadata": {
      "needs_background": "light"
     },
     "output_type": "display_data"
    },
    {
     "data": {
      "text/plain": [
       "<Figure size 432x288 with 0 Axes>"
      ]
     },
     "metadata": {},
     "output_type": "display_data"
    },
    {
     "data": {
      "image/png": "[encoded data removed]",
      "text/plain": [
       "<Figure size 3168x144 with 1 Axes>"
      ]
     },
     "metadata": {
      "needs_background": "light"
     },
     "output_type": "display_data"
    },
    {
     "data": {
      "text/plain": [
       "<Figure size 432x288 with 0 Axes>"
      ]
     },
     "metadata": {},
     "output_type": "display_data"
    },
    {
     "data": {
      "image/png": "[encoded data removed]",
      "text/plain": [
       "<Figure size 3168x144 with 1 Axes>"
      ]
     },
     "metadata": {
      "needs_background": "light"
     },
     "output_type": "display_data"
    },
    {
     "data": {
      "text/plain": [
       "<Figure size 432x288 with 0 Axes>"
      ]
     },
     "metadata": {},
     "output_type": "display_data"
    }
   ],
   "source": [
    "\n",
    "df = transacdata.loc[transacdata.transac_month == 10, ['transac_date', 'prod_price', 'prod_cat']]\n",
    "df = df.groupby([df.transac_date.dt.day, 'prod_cat']).agg({'prod_price':['sum', 'count']}).reset_index()\n",
    "df.columns = ['transac_day', 'prod_cat', 'ca', 'volume']\n",
    "\n",
    "df = pd.pivot_table(df, columns=['prod_cat'], index=['transac_day']).reset_index()\n",
    "df.columns = ['transac_day', 'ca_0', 'ca_1', 'ca_2', 'vol_0', 'vol_1', 'vol_2']\n",
    "\n",
    "color=['black', 'red', 'green']\n",
    "for i, cat in enumerate([0,1,2]):\n",
    "    plt.figure(figsize=(44,2))\n",
    "\n",
    "    plt.subplot(1,2,2)\n",
    "    plt.bar(df['transac_day'], df[f'vol_{cat}'], width=0.5, color=color[i])\n",
    "    plt.xlabel('octobre - jours')\n",
    "    plt.ylabel(f'cat {cat}')\n",
    "    plt.show()\n",
    "    plt.savefig('octobre')"
   ]
  },
  {
   "cell_type": "code",
   "execution_count": 65,
   "metadata": {},
   "outputs": [],
   "source": [
    "products_sold = transacdata.loc[:, 'prod_id':'prod_price_range'].drop_duplicates()"
   ]
  },
  {
   "cell_type": "code",
   "execution_count": 66,
   "metadata": {},
   "outputs": [
    {
     "name": "stdout",
     "output_type": "stream",
     "text": [
      "0.67% des produits sont invendus.\n"
     ]
    }
   ],
   "source": [
    "print(f\"{products_unsold.shape[0] / (products_sold.shape[0] + products_unsold.shape[0]) * 100 :.2f}% des produits sont invendus.\")"
   ]
  },
  {
   "cell_type": "code",
   "execution_count": 67,
   "metadata": {},
   "outputs": [],
   "source": [
    "categ_prices = {\n",
    "    cat: products_sold.loc[\n",
    "            (products_sold.prod_cat==cat)\n",
    "          & (products_sold.prod_price),\n",
    "        'prod_price'\n",
    "        ]\n",
    "    for cat in [0,1,2]}"
   ]
  },
  {
   "cell_type": "code",
   "execution_count": 69,
   "metadata": {},
   "outputs": [
    {
     "data": {
      "image/png": "[encoded data removed]",
      "text/plain": [
       "<Figure size 720x360 with 1 Axes>"
      ]
     },
     "metadata": {
      "needs_background": "light"
     },
     "output_type": "display_data"
    }
   ],
   "source": [
    "plt.figure(figsize=(10,5))\n",
    "plt.hist(categ_prices[0], bins=10, alpha=0.7)\n",
    "plt.hist(categ_prices[1], bins=10, alpha=0.7)\n",
    "plt.hist(categ_prices[2], bins=15, alpha=0.7)\n",
    "plt.legend(['catégorie 0', 'catégorie 1', 'catégorie 2'])\n",
    "plt.xlabel('prix')\n",
    "plt.ylabel('quantité')\n",
    "plt.plot()\n",
    "plt.savefig('prix-quantité')"
   ]
  },
  {
   "cell_type": "code",
   "execution_count": 74,
   "metadata": {
    "scrolled": true
   },
   "outputs": [
    {
     "data": {
      "text/plain": [
       "count    236.000000\n",
       "mean     107.636017\n",
       "std       49.255576\n",
       "min       30.990000\n",
       "25%       70.690000\n",
       "50%      101.250000\n",
       "75%      134.945000\n",
       "max      300.000000\n",
       "Name: prod_price, dtype: float64"
      ]
     },
     "execution_count": 74,
     "metadata": {},
     "output_type": "execute_result"
    }
   ],
   "source": [
    "categ_prices[2].describe()"
   ]
  },
  {
   "cell_type": "code",
   "execution_count": 75,
   "metadata": {},
   "outputs": [
    {
     "data": {
      "image/png": "[encoded data removed]",
      "text/plain": [
       "<Figure size 432x288 with 1 Axes>"
      ]
     },
     "metadata": {},
     "output_type": "display_data"
    }
   ],
   "source": [
    "freqs = products_sold.prod_cat.value_counts()\n",
    "\n",
    "plt.subplot(1,2,1)\n",
    "plt.pie(freqs, autopct='%1.0f%%', labels=freqs.index.values)\n",
    "plt.axis('equal')\n",
    "plt.title('Répartition du choix')\n",
    "plt.plot()\n",
    "plt.savefig('Répartition du choix')"
   ]
  },
  {
   "cell_type": "code",
   "execution_count": 76,
   "metadata": {},
   "outputs": [],
   "source": [
    "df = transacdata[['prod_cat', 'prod_price']].groupby('prod_cat').agg({'prod_price': ['count', 'sum']}).reset_index()\n",
    "df.columns = ['prod_cat', 'volume', 'ca']"
   ]
  },
  {
   "cell_type": "code",
   "execution_count": 77,
   "metadata": {},
   "outputs": [
    {
     "data": {
      "image/png": "[encoded data removed]",
      "text/plain": [
       "<Figure size 432x288 with 2 Axes>"
      ]
     },
     "metadata": {},
     "output_type": "display_data"
    }
   ],
   "source": [
    "plt.subplot(1,2,1)\n",
    "plt.pie(df.volume, autopct='%1.0f%%', labels=freqs.index.values)\n",
    "plt.axis('equal')\n",
    "plt.title('Vol. des ventes par catégories')\n",
    "plt.plot()\n",
    "\n",
    "plt.subplot(1,2,2)\n",
    "plt.pie(df.ca, autopct='%1.0f%%', labels=freqs.index.values)\n",
    "plt.axis('equal')\n",
    "plt.title('CA par catégories')\n",
    "plt.plot()\n",
    "plt.savefig('CA par catégories')"
   ]
  },
  {
   "cell_type": "code",
   "execution_count": 82,
   "metadata": {},
   "outputs": [
    {
     "data": {
      "text/html": [
       "<div>\n",
       "<style scoped>\n",
       "    .dataframe tbody tr th:only-of-type {\n",
       "        vertical-align: middle;\n",
       "    }\n",
       "\n",
       "    .dataframe tbody tr th {\n",
       "        vertical-align: top;\n",
       "    }\n",
       "\n",
       "    .dataframe thead th {\n",
       "        text-align: right;\n",
       "    }\n",
       "</style>\n",
       "<table border=\"1\" class=\"dataframe\">\n",
       "  <thead>\n",
       "    <tr style=\"text-align: right;\">\n",
       "      <th></th>\n",
       "      <th>prod_id</th>\n",
       "      <th>transac_number</th>\n",
       "      <th>ca</th>\n",
       "    </tr>\n",
       "  </thead>\n",
       "  <tbody>\n",
       "    <tr>\n",
       "      <th>0</th>\n",
       "      <td>0_0</td>\n",
       "      <td>611</td>\n",
       "      <td>2291.25</td>\n",
       "    </tr>\n",
       "    <tr>\n",
       "      <th>1</th>\n",
       "      <td>0_1</td>\n",
       "      <td>249</td>\n",
       "      <td>2736.51</td>\n",
       "    </tr>\n",
       "    <tr>\n",
       "      <th>2</th>\n",
       "      <td>0_10</td>\n",
       "      <td>12</td>\n",
       "      <td>215.40</td>\n",
       "    </tr>\n",
       "    <tr>\n",
       "      <th>3</th>\n",
       "      <td>0_100</td>\n",
       "      <td>2</td>\n",
       "      <td>41.20</td>\n",
       "    </tr>\n",
       "    <tr>\n",
       "      <th>4</th>\n",
       "      <td>0_1000</td>\n",
       "      <td>222</td>\n",
       "      <td>1518.48</td>\n",
       "    </tr>\n",
       "    <tr>\n",
       "      <th>...</th>\n",
       "      <td>...</td>\n",
       "      <td>...</td>\n",
       "      <td>...</td>\n",
       "    </tr>\n",
       "    <tr>\n",
       "      <th>3260</th>\n",
       "      <td>2_95</td>\n",
       "      <td>3</td>\n",
       "      <td>296.97</td>\n",
       "    </tr>\n",
       "    <tr>\n",
       "      <th>3261</th>\n",
       "      <td>2_96</td>\n",
       "      <td>281</td>\n",
       "      <td>13462.71</td>\n",
       "    </tr>\n",
       "    <tr>\n",
       "      <th>3262</th>\n",
       "      <td>2_97</td>\n",
       "      <td>5</td>\n",
       "      <td>804.95</td>\n",
       "    </tr>\n",
       "    <tr>\n",
       "      <th>3263</th>\n",
       "      <td>2_98</td>\n",
       "      <td>1</td>\n",
       "      <td>149.74</td>\n",
       "    </tr>\n",
       "    <tr>\n",
       "      <th>3264</th>\n",
       "      <td>2_99</td>\n",
       "      <td>2</td>\n",
       "      <td>169.98</td>\n",
       "    </tr>\n",
       "  </tbody>\n",
       "</table>\n",
       "<p>3265 rows × 3 columns</p>\n",
       "</div>"
      ],
      "text/plain": [
       "     prod_id  transac_number        ca\n",
       "0        0_0             611   2291.25\n",
       "1        0_1             249   2736.51\n",
       "2       0_10              12    215.40\n",
       "3      0_100               2     41.20\n",
       "4     0_1000             222   1518.48\n",
       "...      ...             ...       ...\n",
       "3260    2_95               3    296.97\n",
       "3261    2_96             281  13462.71\n",
       "3262    2_97               5    804.95\n",
       "3263    2_98               1    149.74\n",
       "3264    2_99               2    169.98\n",
       "\n",
       "[3265 rows x 3 columns]"
      ]
     },
     "execution_count": 82,
     "metadata": {},
     "output_type": "execute_result"
    }
   ],
   "source": [
    "df3 = transacdata[['prod_id', 'prod_price']].groupby('prod_id').agg({\n",
    "    'prod_price': ['count', 'sum']\n",
    "}).reset_index()\n",
    "df3.columns = ['prod_id', 'transac_number', 'ca']\n",
    "df3"
   ]
  },
  {
   "cell_type": "code",
   "execution_count": 83,
   "metadata": {},
   "outputs": [
    {
     "data": {
      "text/html": [
       "<div>\n",
       "<style scoped>\n",
       "    .dataframe tbody tr th:only-of-type {\n",
       "        vertical-align: middle;\n",
       "    }\n",
       "\n",
       "    .dataframe tbody tr th {\n",
       "        vertical-align: top;\n",
       "    }\n",
       "\n",
       "    .dataframe thead th {\n",
       "        text-align: right;\n",
       "    }\n",
       "</style>\n",
       "<table border=\"1\" class=\"dataframe\">\n",
       "  <thead>\n",
       "    <tr style=\"text-align: right;\">\n",
       "      <th></th>\n",
       "      <th>prod_id</th>\n",
       "      <th>prod_price</th>\n",
       "    </tr>\n",
       "  </thead>\n",
       "  <tbody>\n",
       "    <tr>\n",
       "      <th>0</th>\n",
       "      <td>1_385</td>\n",
       "      <td>25.99</td>\n",
       "    </tr>\n",
       "    <tr>\n",
       "      <th>1</th>\n",
       "      <td>0_1110</td>\n",
       "      <td>4.71</td>\n",
       "    </tr>\n",
       "    <tr>\n",
       "      <th>2</th>\n",
       "      <td>0_1111</td>\n",
       "      <td>19.99</td>\n",
       "    </tr>\n",
       "    <tr>\n",
       "      <th>3</th>\n",
       "      <td>1_461</td>\n",
       "      <td>12.99</td>\n",
       "    </tr>\n",
       "    <tr>\n",
       "      <th>4</th>\n",
       "      <td>1_536</td>\n",
       "      <td>11.21</td>\n",
       "    </tr>\n",
       "    <tr>\n",
       "      <th>...</th>\n",
       "      <td>...</td>\n",
       "      <td>...</td>\n",
       "    </tr>\n",
       "    <tr>\n",
       "      <th>335789</th>\n",
       "      <td>2_82</td>\n",
       "      <td>75.81</td>\n",
       "    </tr>\n",
       "    <tr>\n",
       "      <th>336200</th>\n",
       "      <td>0_2200</td>\n",
       "      <td>20.47</td>\n",
       "    </tr>\n",
       "    <tr>\n",
       "      <th>336492</th>\n",
       "      <td>1_393</td>\n",
       "      <td>35.99</td>\n",
       "    </tr>\n",
       "    <tr>\n",
       "      <th>336522</th>\n",
       "      <td>2_76</td>\n",
       "      <td>254.44</td>\n",
       "    </tr>\n",
       "    <tr>\n",
       "      <th>336569</th>\n",
       "      <td>1_440</td>\n",
       "      <td>7.32</td>\n",
       "    </tr>\n",
       "  </tbody>\n",
       "</table>\n",
       "<p>15409 rows × 2 columns</p>\n",
       "</div>"
      ],
      "text/plain": [
       "       prod_id  prod_price\n",
       "0        1_385       25.99\n",
       "1       0_1110        4.71\n",
       "2       0_1111       19.99\n",
       "3        1_461       12.99\n",
       "4        1_536       11.21\n",
       "...        ...         ...\n",
       "335789    2_82       75.81\n",
       "336200  0_2200       20.47\n",
       "336492   1_393       35.99\n",
       "336522    2_76      254.44\n",
       "336569   1_440        7.32\n",
       "\n",
       "[15409 rows x 2 columns]"
      ]
     },
     "execution_count": 83,
     "metadata": {},
     "output_type": "execute_result"
    }
   ],
   "source": [
    "df32 = transacdata[['prod_id', 'prod_price']].groupby('prod_id')\n",
    "df32.head()\n"
   ]
  },
  {
   "cell_type": "code",
   "execution_count": null,
   "metadata": {},
   "outputs": [],
   "source": []
  },
  {
   "cell_type": "code",
   "execution_count": null,
   "metadata": {},
   "outputs": [],
   "source": []
  },
  {
   "cell_type": "code",
   "execution_count": 87,
   "metadata": {
    "scrolled": true
   },
   "outputs": [
    {
     "name": "stdout",
     "output_type": "stream",
     "text": [
      "indice de gini: 0.69\n"
     ]
    },
    {
     "data": {
      "image/png": "[encoded data removed]",
      "text/plain": [
       "<Figure size 432x288 with 1 Axes>"
      ]
     },
     "metadata": {
      "needs_background": "light"
     },
     "output_type": "display_data"
    }
   ],
   "source": [
    "transac_number = df3['transac_number'].values\n",
    "lorenz = np.cumsum(np.sort(transac_number)) / transac_number.sum()\n",
    "lorenz = np.append([0], lorenz)\n",
    "\n",
    "plt.plot(np.linspace(0,1,len(lorenz)), lorenz, drawstyle='steps-post')\n",
    "plt.plot(np.linspace(0,1,len(lorenz)), np.linspace(0,1,len(lorenz)), dashes=[2,4])\n",
    "plt.xlabel('part cumulée des prods')\n",
    "plt.ylabel('part cumulée du vol. des ventes')\n",
    "plt.title('Vol. des ventes')\n",
    "aire_ss_courbe = lorenz[:-1].sum() / len(lorenz)\n",
    "S = 0.5 - aire_ss_courbe\n",
    "gini = 2*S\n",
    "print(f'indice de gini: {gini:.2f}')\n"
   ]
  },
  {
   "cell_type": "code",
   "execution_count": 88,
   "metadata": {},
   "outputs": [
    {
     "name": "stdout",
     "output_type": "stream",
     "text": [
      "73% des ventes sont faites sur 20% des produits (653 prod). \n"
     ]
    }
   ],
   "source": [
    "prod_most_sold = df3[['prod_id', 'transac_number']].sort_values('transac_number', ascending=False)[:round(len(df3)*0.2)]\n",
    "percent_prod =  prod_most_sold.prod_id.count() / df3.prod_id.count() * 100\n",
    "percent_ventes = prod_most_sold.transac_number.sum() / df3.transac_number.sum() * 100\n",
    "\n",
    "print(f'{percent_ventes:.0f}% des ventes sont faites sur {percent_prod:.0f}% des produits ({len(prod_most_sold)} prod). ')"
   ]
  },
  {
   "cell_type": "code",
   "execution_count": 89,
   "metadata": {},
   "outputs": [
    {
     "data": {
      "text/html": [
       "<div>\n",
       "<style scoped>\n",
       "    .dataframe tbody tr th:only-of-type {\n",
       "        vertical-align: middle;\n",
       "    }\n",
       "\n",
       "    .dataframe tbody tr th {\n",
       "        vertical-align: top;\n",
       "    }\n",
       "\n",
       "    .dataframe thead th {\n",
       "        text-align: right;\n",
       "    }\n",
       "</style>\n",
       "<table border=\"1\" class=\"dataframe\">\n",
       "  <thead>\n",
       "    <tr style=\"text-align: right;\">\n",
       "      <th></th>\n",
       "      <th>prod_id</th>\n",
       "      <th>transac_number</th>\n",
       "    </tr>\n",
       "  </thead>\n",
       "  <tbody>\n",
       "    <tr>\n",
       "      <th>2591</th>\n",
       "      <td>1_369</td>\n",
       "      <td>1081</td>\n",
       "    </tr>\n",
       "    <tr>\n",
       "      <th>2644</th>\n",
       "      <td>1_417</td>\n",
       "      <td>1062</td>\n",
       "    </tr>\n",
       "    <tr>\n",
       "      <th>2733</th>\n",
       "      <td>1_498</td>\n",
       "      <td>1036</td>\n",
       "    </tr>\n",
       "    <tr>\n",
       "      <th>2641</th>\n",
       "      <td>1_414</td>\n",
       "      <td>1027</td>\n",
       "    </tr>\n",
       "    <tr>\n",
       "      <th>2653</th>\n",
       "      <td>1_425</td>\n",
       "      <td>1013</td>\n",
       "    </tr>\n",
       "    <tr>\n",
       "      <th>2622</th>\n",
       "      <td>1_398</td>\n",
       "      <td>952</td>\n",
       "    </tr>\n",
       "    <tr>\n",
       "      <th>2632</th>\n",
       "      <td>1_406</td>\n",
       "      <td>946</td>\n",
       "    </tr>\n",
       "    <tr>\n",
       "      <th>2640</th>\n",
       "      <td>1_413</td>\n",
       "      <td>944</td>\n",
       "    </tr>\n",
       "    <tr>\n",
       "      <th>2629</th>\n",
       "      <td>1_403</td>\n",
       "      <td>939</td>\n",
       "    </tr>\n",
       "    <tr>\n",
       "      <th>2633</th>\n",
       "      <td>1_407</td>\n",
       "      <td>933</td>\n",
       "    </tr>\n",
       "  </tbody>\n",
       "</table>\n",
       "</div>"
      ],
      "text/plain": [
       "     prod_id  transac_number\n",
       "2591   1_369            1081\n",
       "2644   1_417            1062\n",
       "2733   1_498            1036\n",
       "2641   1_414            1027\n",
       "2653   1_425            1013\n",
       "2622   1_398             952\n",
       "2632   1_406             946\n",
       "2640   1_413             944\n",
       "2629   1_403             939\n",
       "2633   1_407             933"
      ]
     },
     "execution_count": 89,
     "metadata": {},
     "output_type": "execute_result"
    }
   ],
   "source": [
    "prod_most_sold.head(10)"
   ]
  },
  {
   "cell_type": "code",
   "execution_count": null,
   "metadata": {},
   "outputs": [],
   "source": []
  },
  {
   "cell_type": "code",
   "execution_count": 90,
   "metadata": {
    "scrolled": true
   },
   "outputs": [
    {
     "name": "stdout",
     "output_type": "stream",
     "text": [
      "indice de gini: 0.74\n"
     ]
    },
    {
     "data": {
      "image/png": "[encoded data removed]",
      "text/plain": [
       "<Figure size 432x288 with 1 Axes>"
      ]
     },
     "metadata": {
      "needs_background": "light"
     },
     "output_type": "display_data"
    }
   ],
   "source": [
    "transac_number = df3['ca'].values\n",
    "lorenz = np.cumsum(np.sort(transac_number)) / transac_number.sum()\n",
    "lorenz = np.append([0], lorenz)\n",
    "plt.plot(np.linspace(0,1,len(lorenz)), lorenz, drawstyle='steps-post')\n",
    "plt.plot(np.linspace(0,1,len(lorenz)), np.linspace(0,1,len(lorenz)), dashes=[2,4])\n",
    "plt.ylabel('part cumulée du CA')\n",
    "plt.xlabel('part cumulée des prods')\n",
    "plt.title(\"Chiffre d'affaire\")\n",
    "aire_ss_courbe = lorenz[:-1].sum() / len(lorenz)\n",
    "S = 0.5 - aire_ss_courbe\n",
    "gini = 2*S\n",
    "print(f'indice de gini: {gini:.2f}')"
   ]
  },
  {
   "cell_type": "code",
   "execution_count": 93,
   "metadata": {},
   "outputs": [
    {
     "name": "stdout",
     "output_type": "stream",
     "text": [
      "les 20% produits (soit 653 produits) les plus rentables rapportent 78% du CA.\n"
     ]
    }
   ],
   "source": [
    "prod_profitables = df3[['prod_id', 'ca']].sort_values('ca', ascending=False)[:round(len(df3)*0.2)]\n",
    "nb_prod = len(prod_profitables)\n",
    "percent_prod =  prod_profitables.prod_id.count() / df3.prod_id.count() * 100\n",
    "percent_ca = prod_profitables.ca.sum() / df3.ca.sum() * 100\n",
    "\n",
    "\n",
    "print(f'les {percent_prod:.0f}% produits (soit {nb_prod} produits) les plus rentables rapportent {percent_ca:.0f}% du CA.')"
   ]
  },
  {
   "cell_type": "code",
   "execution_count": 94,
   "metadata": {},
   "outputs": [
    {
     "data": {
      "text/html": [
       "<div>\n",
       "<style scoped>\n",
       "    .dataframe tbody tr th:only-of-type {\n",
       "        vertical-align: middle;\n",
       "    }\n",
       "\n",
       "    .dataframe tbody tr th {\n",
       "        vertical-align: top;\n",
       "    }\n",
       "\n",
       "    .dataframe thead th {\n",
       "        text-align: right;\n",
       "    }\n",
       "</style>\n",
       "<table border=\"1\" class=\"dataframe\">\n",
       "  <thead>\n",
       "    <tr style=\"text-align: right;\">\n",
       "      <th></th>\n",
       "      <th>prod_id</th>\n",
       "      <th>ca</th>\n",
       "    </tr>\n",
       "  </thead>\n",
       "  <tbody>\n",
       "    <tr>\n",
       "      <th>3070</th>\n",
       "      <td>2_135</td>\n",
       "      <td>33874.09</td>\n",
       "    </tr>\n",
       "    <tr>\n",
       "      <th>3045</th>\n",
       "      <td>2_112</td>\n",
       "      <td>31960.61</td>\n",
       "    </tr>\n",
       "    <tr>\n",
       "      <th>3034</th>\n",
       "      <td>2_102</td>\n",
       "      <td>28919.46</td>\n",
       "    </tr>\n",
       "    <tr>\n",
       "      <th>3152</th>\n",
       "      <td>2_209</td>\n",
       "      <td>27296.10</td>\n",
       "    </tr>\n",
       "    <tr>\n",
       "      <th>3043</th>\n",
       "      <td>2_110</td>\n",
       "      <td>27016.50</td>\n",
       "    </tr>\n",
       "    <tr>\n",
       "      <th>2591</th>\n",
       "      <td>1_369</td>\n",
       "      <td>25933.19</td>\n",
       "    </tr>\n",
       "    <tr>\n",
       "      <th>2619</th>\n",
       "      <td>1_395</td>\n",
       "      <td>25830.09</td>\n",
       "    </tr>\n",
       "    <tr>\n",
       "      <th>3104</th>\n",
       "      <td>2_166</td>\n",
       "      <td>25534.44</td>\n",
       "    </tr>\n",
       "    <tr>\n",
       "      <th>3206</th>\n",
       "      <td>2_43</td>\n",
       "      <td>25266.39</td>\n",
       "    </tr>\n",
       "    <tr>\n",
       "      <th>3201</th>\n",
       "      <td>2_39</td>\n",
       "      <td>25225.65</td>\n",
       "    </tr>\n",
       "  </tbody>\n",
       "</table>\n",
       "</div>"
      ],
      "text/plain": [
       "     prod_id        ca\n",
       "3070   2_135  33874.09\n",
       "3045   2_112  31960.61\n",
       "3034   2_102  28919.46\n",
       "3152   2_209  27296.10\n",
       "3043   2_110  27016.50\n",
       "2591   1_369  25933.19\n",
       "2619   1_395  25830.09\n",
       "3104   2_166  25534.44\n",
       "3206    2_43  25266.39\n",
       "3201    2_39  25225.65"
      ]
     },
     "execution_count": 94,
     "metadata": {},
     "output_type": "execute_result"
    }
   ],
   "source": [
    "prod_profitables.head(10)"
   ]
  },
  {
   "cell_type": "code",
   "execution_count": 97,
   "metadata": {},
   "outputs": [
    {
     "name": "stderr",
     "output_type": "stream",
     "text": [
      "<ipython-input-97-3ecc4ad925af>:4: FutureWarning: `Series.plot()` should not be called with positional arguments, only keyword arguments. The order of positional arguments will change in the future. Use `Series.plot(kind='pie')` instead of `Series.plot('pie',)`.\n",
      "  prod_profitables.prod_cat.value_counts(normalize=True).plot('pie',  autopct=lambda x:f'{x:.0f}%')\n"
     ]
    },
    {
     "data": {
      "image/png": "[encoded data removed]",
      "text/plain": [
       "<Figure size 432x288 with 1 Axes>"
      ]
     },
     "metadata": {},
     "output_type": "display_data"
    },
    {
     "data": {
      "text/plain": [
       "<Figure size 432x288 with 0 Axes>"
      ]
     },
     "metadata": {},
     "output_type": "display_data"
    }
   ],
   "source": [
    "df = products_sold[products_sold.prod_id.isin(prod_profitables.prod_id.values)]\n",
    "prod_profitables = pd.merge(df, df3[['prod_id', 'transac_number']], on='prod_id')\n",
    "\n",
    "prod_profitables.prod_cat.value_counts(normalize=True).plot('pie',  autopct=lambda x:f'{x:.0f}%')\n",
    "plt.axis('equal')\n",
    "plt.title('catégorie des produits les plus rentables')\n",
    "plt.show()\n",
    "plt.savefig('catégorie des produits les plus rentables')"
   ]
  },
  {
   "cell_type": "code",
   "execution_count": 98,
   "metadata": {},
   "outputs": [],
   "source": [
    "customs_with_purchase = transacdata.loc[:,'custom_id':'custom_age_range'].drop_duplicates()"
   ]
  },
  {
   "cell_type": "code",
   "execution_count": 99,
   "metadata": {},
   "outputs": [
    {
     "name": "stdout",
     "output_type": "stream",
     "text": [
      "Cela représente 0.24% des clients.\n"
     ]
    }
   ],
   "source": [
    "print(f\"Cela représente {customs_no_purchase.shape[0] / (customs_no_purchase.shape[0] + customs_with_purchase.shape[0]) * 100 :.2f}% des clients.\")"
   ]
  },
  {
   "cell_type": "code",
   "execution_count": null,
   "metadata": {},
   "outputs": [],
   "source": []
  },
  {
   "cell_type": "code",
   "execution_count": 100,
   "metadata": {
    "scrolled": true
   },
   "outputs": [
    {
     "data": {
      "image/png": "[encoded data removed]",
      "text/plain": [
       "<Figure size 432x288 with 1 Axes>"
      ]
     },
     "metadata": {},
     "output_type": "display_data"
    },
    {
     "data": {
      "text/plain": [
       "<Figure size 3600x3600 with 0 Axes>"
      ]
     },
     "metadata": {},
     "output_type": "display_data"
    },
    {
     "data": {
      "text/plain": [
       "<Figure size 432x288 with 0 Axes>"
      ]
     },
     "metadata": {},
     "output_type": "display_data"
    }
   ],
   "source": [
    "plt.pie(customs_with_purchase.custom_sex.value_counts(), autopct=lambda x:f'{x:.0f}%',labels=['femmes', 'hommes'], \n",
    "        textprops={'fontsize': 20})\n",
    "\n",
    "plt.axis('equal')\n",
    "plt.figure(figsize=(50,50))\n",
    "plt.show()\n",
    "plt.savefig('repartition')"
   ]
  },
  {
   "cell_type": "code",
   "execution_count": 102,
   "metadata": {},
   "outputs": [
    {
     "data": {
      "image/png": "[encoded data removed]",
      "text/plain": [
       "<Figure size 432x288 with 1 Axes>"
      ]
     },
     "metadata": {
      "needs_background": "light"
     },
     "output_type": "display_data"
    },
    {
     "data": {
      "text/plain": [
       "<Figure size 432x288 with 0 Axes>"
      ]
     },
     "metadata": {},
     "output_type": "display_data"
    }
   ],
   "source": [
    "age_ss_18 = customs_with_purchase.loc[customs_with_purchase.custom_age != 18, 'custom_age']\n",
    "\n",
    "plt.hist(age_ss_18, density=True, bins=40, alpha=0.9)\n",
    "plt.title('age des clients')\n",
    "plt.xlabel('age')\n",
    "plt.xlabel('fréq.')\n",
    "plt.show()\n",
    "plt.savefig('age des clients')"
   ]
  },
  {
   "cell_type": "code",
   "execution_count": 103,
   "metadata": {},
   "outputs": [
    {
     "data": {
      "text/plain": [
       "count    8163.000000\n",
       "mean       45.117236\n",
       "std        16.243253\n",
       "min        19.000000\n",
       "25%        32.000000\n",
       "50%        44.000000\n",
       "75%        57.000000\n",
       "max        93.000000\n",
       "Name: custom_age, dtype: float64"
      ]
     },
     "execution_count": 103,
     "metadata": {},
     "output_type": "execute_result"
    }
   ],
   "source": [
    "age_ss_18.describe()"
   ]
  },
  {
   "cell_type": "code",
   "execution_count": 107,
   "metadata": {},
   "outputs": [
    {
     "data": {
      "image/png": "[encoded data removed]",
      "text/plain": [
       "<Figure size 432x288 with 1 Axes>"
      ]
     },
     "metadata": {},
     "output_type": "display_data"
    }
   ],
   "source": [
    "df = transacdata[['transac_acheteur_age_range', 'prod_price']].groupby('transac_acheteur_age_range').sum().reset_index()\n",
    "plt.pie(df.prod_price, autopct='%1.0f%%', labels=df.transac_acheteur_age_range)\n",
    "plt.axis('equal')\n",
    "plt.title('Contribution au CA')\n",
    "plt.savefig('Contribution au CA')"
   ]
  },
  {
   "cell_type": "code",
   "execution_count": 108,
   "metadata": {},
   "outputs": [
    {
     "data": {
      "text/html": [
       "<div>\n",
       "<style scoped>\n",
       "    .dataframe tbody tr th:only-of-type {\n",
       "        vertical-align: middle;\n",
       "    }\n",
       "\n",
       "    .dataframe tbody tr th {\n",
       "        vertical-align: top;\n",
       "    }\n",
       "\n",
       "    .dataframe thead th {\n",
       "        text-align: right;\n",
       "    }\n",
       "</style>\n",
       "<table border=\"1\" class=\"dataframe\">\n",
       "  <thead>\n",
       "    <tr style=\"text-align: right;\">\n",
       "      <th></th>\n",
       "      <th>custom_id</th>\n",
       "      <th>cat0</th>\n",
       "      <th>cat1</th>\n",
       "      <th>cat2</th>\n",
       "      <th>cat_loyal</th>\n",
       "    </tr>\n",
       "  </thead>\n",
       "  <tbody>\n",
       "    <tr>\n",
       "      <th>2119</th>\n",
       "      <td>c_2908</td>\n",
       "      <td>16.0</td>\n",
       "      <td>2.0</td>\n",
       "      <td>0.0</td>\n",
       "      <td>0.888889</td>\n",
       "    </tr>\n",
       "  </tbody>\n",
       "</table>\n",
       "</div>"
      ],
      "text/plain": [
       "     custom_id  cat0  cat1  cat2  cat_loyal\n",
       "2119    c_2908  16.0   2.0   0.0   0.888889"
      ]
     },
     "execution_count": 108,
     "metadata": {},
     "output_type": "execute_result"
    }
   ],
   "source": [
    "df = transacdata[['custom_id', 'prod_cat']].copy()\n",
    "df['count'] = 1\n",
    "\n",
    "df = pd.pivot_table(df, columns='prod_cat', index='custom_id', aggfunc='count').reset_index()\n",
    "df.columns = ['custom_id', 'cat0', 'cat1', 'cat2']\n",
    "\n",
    "df = df.fillna(0)\n",
    "df['cat_loyal'] = df.loc[:,'cat0':'cat2'].max(axis=1) / df.loc[:,'cat0':'cat2'].sum(axis=1)\n",
    "df.sample()"
   ]
  },
  {
   "cell_type": "code",
   "execution_count": 109,
   "metadata": {},
   "outputs": [
    {
     "name": "stdout",
     "output_type": "stream",
     "text": [
      "en moyenne, 65% des produits acheté par un client proviennent de la même catégorie.\n"
     ]
    }
   ],
   "source": [
    "loyal_cat = df.cat_loyal.mean()\n",
    "print(f'en moyenne, {loyal_cat*100:.0f}% des produits acheté par un client proviennent de la même catégorie.')"
   ]
  },
  {
   "cell_type": "code",
   "execution_count": null,
   "metadata": {},
   "outputs": [],
   "source": []
  },
  {
   "cell_type": "code",
   "execution_count": 110,
   "metadata": {},
   "outputs": [],
   "source": [
    "df = transacdata.groupby('custom_id').agg({\n",
    "    'custom_age':'mean',\n",
    "    'custom_sex':lambda x: x.mode(),\n",
    "    'transac_sess_id':'count',\n",
    "    'prod_price':['sum', 'count'],\n",
    "    'prod_id': ['nunique']\n",
    "    })\n",
    "df = df.reset_index()\n",
    "df.columns = ['custom_id', 'custom_age', 'custom_sex', 'nb_session', 'ca', 'nb_transac', 'nb_prod_diff']"
   ]
  },
  {
   "cell_type": "code",
   "execution_count": 111,
   "metadata": {},
   "outputs": [],
   "source": [
    "\n",
    "custom_id_ab = df.loc[df.ca > 3000, 'custom_id']\n",
    "transacdata.loc[transacdata.custom_id.isin(custom_id_ab), 'data_info'] = 'custom_special'"
   ]
  },
  {
   "cell_type": "code",
   "execution_count": 112,
   "metadata": {},
   "outputs": [
    {
     "data": {
      "text/html": [
       "<div>\n",
       "<style scoped>\n",
       "    .dataframe tbody tr th:only-of-type {\n",
       "        vertical-align: middle;\n",
       "    }\n",
       "\n",
       "    .dataframe tbody tr th {\n",
       "        vertical-align: top;\n",
       "    }\n",
       "\n",
       "    .dataframe thead th {\n",
       "        text-align: right;\n",
       "    }\n",
       "</style>\n",
       "<table border=\"1\" class=\"dataframe\">\n",
       "  <thead>\n",
       "    <tr style=\"text-align: right;\">\n",
       "      <th></th>\n",
       "      <th>custom_id</th>\n",
       "      <th>custom_age</th>\n",
       "      <th>custom_sex</th>\n",
       "      <th>nb_session</th>\n",
       "      <th>ca</th>\n",
       "      <th>nb_transac</th>\n",
       "      <th>nb_prod_diff</th>\n",
       "    </tr>\n",
       "  </thead>\n",
       "  <tbody>\n",
       "    <tr>\n",
       "      <th>677</th>\n",
       "      <td>c_1609</td>\n",
       "      <td>42.0</td>\n",
       "      <td>m</td>\n",
       "      <td>12855</td>\n",
       "      <td>162007.340000</td>\n",
       "      <td>12855</td>\n",
       "      <td>1918</td>\n",
       "    </tr>\n",
       "    <tr>\n",
       "      <th>2724</th>\n",
       "      <td>c_3454</td>\n",
       "      <td>53.0</td>\n",
       "      <td>m</td>\n",
       "      <td>3275</td>\n",
       "      <td>54464.214144</td>\n",
       "      <td>3275</td>\n",
       "      <td>1092</td>\n",
       "    </tr>\n",
       "    <tr>\n",
       "      <th>4388</th>\n",
       "      <td>c_4958</td>\n",
       "      <td>23.0</td>\n",
       "      <td>m</td>\n",
       "      <td>2562</td>\n",
       "      <td>144257.210000</td>\n",
       "      <td>2562</td>\n",
       "      <td>466</td>\n",
       "    </tr>\n",
       "    <tr>\n",
       "      <th>6337</th>\n",
       "      <td>c_6714</td>\n",
       "      <td>54.0</td>\n",
       "      <td>f</td>\n",
       "      <td>4473</td>\n",
       "      <td>73218.634144</td>\n",
       "      <td>4473</td>\n",
       "      <td>1380</td>\n",
       "    </tr>\n",
       "  </tbody>\n",
       "</table>\n",
       "</div>"
      ],
      "text/plain": [
       "     custom_id  custom_age custom_sex  nb_session             ca  nb_transac  \\\n",
       "677     c_1609        42.0          m       12855  162007.340000       12855   \n",
       "2724    c_3454        53.0          m        3275   54464.214144        3275   \n",
       "4388    c_4958        23.0          m        2562  144257.210000        2562   \n",
       "6337    c_6714        54.0          f        4473   73218.634144        4473   \n",
       "\n",
       "      nb_prod_diff  \n",
       "677           1918  \n",
       "2724          1092  \n",
       "4388           466  \n",
       "6337          1380  "
      ]
     },
     "execution_count": 112,
     "metadata": {},
     "output_type": "execute_result"
    }
   ],
   "source": [
    "df[df.custom_id.isin(custom_id_ab)]"
   ]
  },
  {
   "cell_type": "code",
   "execution_count": 113,
   "metadata": {},
   "outputs": [
    {
     "name": "stdout",
     "output_type": "stream",
     "text": [
      "les 4 clients abbérants représentent 7% du CA.\n"
     ]
    }
   ],
   "source": [
    "customs_ab_ca = transacdata.loc[transacdata.data_info == 'custom_special', 'prod_price'].sum()\n",
    "print(f'les {len(custom_id_ab)} clients abbérants représentent {df[df.custom_id.isin(custom_id_ab)].ca.sum() / transacdata.prod_price.sum()*100:.0f}% du CA.')"
   ]
  },
  {
   "cell_type": "code",
   "execution_count": 114,
   "metadata": {},
   "outputs": [],
   "source": [
    "df = transacdata[transacdata.data_info != 'prod_imputation']\\\n",
    ".groupby('transac_sess_id').agg({'prod_price':['sum', 'count']}).reset_index()\n",
    "\n",
    "df.columns = ['transac_sess_id', 'ca', 'nb_prod']"
   ]
  },
  {
   "cell_type": "code",
   "execution_count": 115,
   "metadata": {},
   "outputs": [
    {
     "name": "stdout",
     "output_type": "stream",
     "text": [
      "le panier moyen est de 34.27€ (ecart-type de 31.87€)\n"
     ]
    }
   ],
   "source": [
    "print(f'le panier moyen est de {df.ca.mean():.2f}€ (ecart-type de {df.ca.std():.2f}€)')"
   ]
  },
  {
   "cell_type": "code",
   "execution_count": 116,
   "metadata": {},
   "outputs": [
    {
     "name": "stdout",
     "output_type": "stream",
     "text": [
      "le panier article contient 2.0 produits (ecart-type de 1.27)\n"
     ]
    }
   ],
   "source": [
    "print(f'le panier article contient {df.nb_prod.mean():.1f} produits (ecart-type de {df.nb_prod.std():.2f})')"
   ]
  },
  {
   "cell_type": "code",
   "execution_count": null,
   "metadata": {},
   "outputs": [],
   "source": []
  },
  {
   "cell_type": "markdown",
   "metadata": {},
   "source": [
    "MISSION 3"
   ]
  },
  {
   "cell_type": "code",
   "execution_count": 117,
   "metadata": {
    "scrolled": true
   },
   "outputs": [
    {
     "data": {
      "text/html": [
       "<div>\n",
       "<style scoped>\n",
       "    .dataframe tbody tr th:only-of-type {\n",
       "        vertical-align: middle;\n",
       "    }\n",
       "\n",
       "    .dataframe tbody tr th {\n",
       "        vertical-align: top;\n",
       "    }\n",
       "\n",
       "    .dataframe thead th {\n",
       "        text-align: right;\n",
       "    }\n",
       "</style>\n",
       "<table border=\"1\" class=\"dataframe\">\n",
       "  <thead>\n",
       "    <tr style=\"text-align: right;\">\n",
       "      <th></th>\n",
       "      <th>custom_id</th>\n",
       "      <th>custom_sex</th>\n",
       "      <th>custom_birth</th>\n",
       "      <th>custom_age</th>\n",
       "      <th>custom_age_range</th>\n",
       "      <th>prod_id</th>\n",
       "      <th>prod_cat</th>\n",
       "      <th>prod_price</th>\n",
       "      <th>prod_price_range</th>\n",
       "      <th>transac_sess_id</th>\n",
       "      <th>transac_acheteur_age</th>\n",
       "      <th>transac_acheteur_age_range</th>\n",
       "      <th>transac_date</th>\n",
       "      <th>transac_hour</th>\n",
       "      <th>transac_weekday</th>\n",
       "      <th>transac_month_part</th>\n",
       "      <th>transac_month</th>\n",
       "      <th>data_info</th>\n",
       "    </tr>\n",
       "  </thead>\n",
       "  <tbody>\n",
       "    <tr>\n",
       "      <th>0</th>\n",
       "      <td>c_4410</td>\n",
       "      <td>f</td>\n",
       "      <td>1967.0</td>\n",
       "      <td>55.0</td>\n",
       "      <td>51-70</td>\n",
       "      <td>1_385</td>\n",
       "      <td>1</td>\n",
       "      <td>25.99</td>\n",
       "      <td>expensive 20-79</td>\n",
       "      <td>s_9707</td>\n",
       "      <td>54.0</td>\n",
       "      <td>51-70</td>\n",
       "      <td>2021-03-22 01:40:22.782925</td>\n",
       "      <td>1.0</td>\n",
       "      <td>0.0</td>\n",
       "      <td>2</td>\n",
       "      <td>3.0</td>\n",
       "      <td>NaN</td>\n",
       "    </tr>\n",
       "    <tr>\n",
       "      <th>1</th>\n",
       "      <td>c_4410</td>\n",
       "      <td>f</td>\n",
       "      <td>1967.0</td>\n",
       "      <td>55.0</td>\n",
       "      <td>51-70</td>\n",
       "      <td>0_1110</td>\n",
       "      <td>0</td>\n",
       "      <td>4.71</td>\n",
       "      <td>cheap 4-9</td>\n",
       "      <td>s_114715</td>\n",
       "      <td>54.0</td>\n",
       "      <td>51-70</td>\n",
       "      <td>2021-11-04 16:28:30.169021</td>\n",
       "      <td>16.0</td>\n",
       "      <td>3.0</td>\n",
       "      <td>0</td>\n",
       "      <td>11.0</td>\n",
       "      <td>NaN</td>\n",
       "    </tr>\n",
       "    <tr>\n",
       "      <th>2</th>\n",
       "      <td>c_4410</td>\n",
       "      <td>f</td>\n",
       "      <td>1967.0</td>\n",
       "      <td>55.0</td>\n",
       "      <td>51-70</td>\n",
       "      <td>0_1111</td>\n",
       "      <td>0</td>\n",
       "      <td>19.99</td>\n",
       "      <td>medium 10-19</td>\n",
       "      <td>s_9707</td>\n",
       "      <td>54.0</td>\n",
       "      <td>51-70</td>\n",
       "      <td>2021-03-22 01:27:49.480137</td>\n",
       "      <td>1.0</td>\n",
       "      <td>0.0</td>\n",
       "      <td>2</td>\n",
       "      <td>3.0</td>\n",
       "      <td>NaN</td>\n",
       "    </tr>\n",
       "    <tr>\n",
       "      <th>3</th>\n",
       "      <td>c_4410</td>\n",
       "      <td>f</td>\n",
       "      <td>1967.0</td>\n",
       "      <td>55.0</td>\n",
       "      <td>51-70</td>\n",
       "      <td>1_461</td>\n",
       "      <td>1</td>\n",
       "      <td>12.99</td>\n",
       "      <td>medium 10-19</td>\n",
       "      <td>s_74236</td>\n",
       "      <td>54.0</td>\n",
       "      <td>51-70</td>\n",
       "      <td>2021-08-11 08:40:47.495793</td>\n",
       "      <td>8.0</td>\n",
       "      <td>2.0</td>\n",
       "      <td>1</td>\n",
       "      <td>8.0</td>\n",
       "      <td>NaN</td>\n",
       "    </tr>\n",
       "    <tr>\n",
       "      <th>4</th>\n",
       "      <td>c_4410</td>\n",
       "      <td>f</td>\n",
       "      <td>1967.0</td>\n",
       "      <td>55.0</td>\n",
       "      <td>51-70</td>\n",
       "      <td>1_536</td>\n",
       "      <td>1</td>\n",
       "      <td>11.21</td>\n",
       "      <td>medium 10-19</td>\n",
       "      <td>s_151740</td>\n",
       "      <td>55.0</td>\n",
       "      <td>51-70</td>\n",
       "      <td>2022-01-18 17:05:07.468131</td>\n",
       "      <td>17.0</td>\n",
       "      <td>1.0</td>\n",
       "      <td>2</td>\n",
       "      <td>1.0</td>\n",
       "      <td>NaN</td>\n",
       "    </tr>\n",
       "    <tr>\n",
       "      <th>...</th>\n",
       "      <td>...</td>\n",
       "      <td>...</td>\n",
       "      <td>...</td>\n",
       "      <td>...</td>\n",
       "      <td>...</td>\n",
       "      <td>...</td>\n",
       "      <td>...</td>\n",
       "      <td>...</td>\n",
       "      <td>...</td>\n",
       "      <td>...</td>\n",
       "      <td>...</td>\n",
       "      <td>...</td>\n",
       "      <td>...</td>\n",
       "      <td>...</td>\n",
       "      <td>...</td>\n",
       "      <td>...</td>\n",
       "      <td>...</td>\n",
       "      <td>...</td>\n",
       "    </tr>\n",
       "    <tr>\n",
       "      <th>336811</th>\n",
       "      <td>c_84</td>\n",
       "      <td>f</td>\n",
       "      <td>1982.0</td>\n",
       "      <td>40.0</td>\n",
       "      <td>31-50</td>\n",
       "      <td>0_1452</td>\n",
       "      <td>0</td>\n",
       "      <td>13.77</td>\n",
       "      <td>medium 10-19</td>\n",
       "      <td>s_92701</td>\n",
       "      <td>39.0</td>\n",
       "      <td>31-50</td>\n",
       "      <td>2021-09-20 10:11:35.510099</td>\n",
       "      <td>10.0</td>\n",
       "      <td>0.0</td>\n",
       "      <td>2</td>\n",
       "      <td>9.0</td>\n",
       "      <td>NaN</td>\n",
       "    </tr>\n",
       "    <tr>\n",
       "      <th>336812</th>\n",
       "      <td>c_84</td>\n",
       "      <td>f</td>\n",
       "      <td>1982.0</td>\n",
       "      <td>40.0</td>\n",
       "      <td>31-50</td>\n",
       "      <td>1_158</td>\n",
       "      <td>1</td>\n",
       "      <td>22.17</td>\n",
       "      <td>expensive 20-79</td>\n",
       "      <td>s_98493</td>\n",
       "      <td>39.0</td>\n",
       "      <td>31-50</td>\n",
       "      <td>2021-10-01 16:11:20.841361</td>\n",
       "      <td>16.0</td>\n",
       "      <td>4.0</td>\n",
       "      <td>0</td>\n",
       "      <td>10.0</td>\n",
       "      <td>NaN</td>\n",
       "    </tr>\n",
       "    <tr>\n",
       "      <th>336813</th>\n",
       "      <td>c_84</td>\n",
       "      <td>f</td>\n",
       "      <td>1982.0</td>\n",
       "      <td>40.0</td>\n",
       "      <td>31-50</td>\n",
       "      <td>0_1438</td>\n",
       "      <td>0</td>\n",
       "      <td>9.31</td>\n",
       "      <td>cheap 4-9</td>\n",
       "      <td>s_141701</td>\n",
       "      <td>39.0</td>\n",
       "      <td>31-50</td>\n",
       "      <td>2021-12-29 06:11:50.316631</td>\n",
       "      <td>6.0</td>\n",
       "      <td>2.0</td>\n",
       "      <td>3</td>\n",
       "      <td>12.0</td>\n",
       "      <td>NaN</td>\n",
       "    </tr>\n",
       "    <tr>\n",
       "      <th>336814</th>\n",
       "      <td>c_84</td>\n",
       "      <td>f</td>\n",
       "      <td>1982.0</td>\n",
       "      <td>40.0</td>\n",
       "      <td>31-50</td>\n",
       "      <td>1_459</td>\n",
       "      <td>1</td>\n",
       "      <td>15.99</td>\n",
       "      <td>medium 10-19</td>\n",
       "      <td>s_166337</td>\n",
       "      <td>40.0</td>\n",
       "      <td>31-50</td>\n",
       "      <td>2022-02-17 00:16:56.629536</td>\n",
       "      <td>0.0</td>\n",
       "      <td>3.0</td>\n",
       "      <td>2</td>\n",
       "      <td>2.0</td>\n",
       "      <td>NaN</td>\n",
       "    </tr>\n",
       "    <tr>\n",
       "      <th>336815</th>\n",
       "      <td>c_84</td>\n",
       "      <td>f</td>\n",
       "      <td>1982.0</td>\n",
       "      <td>40.0</td>\n",
       "      <td>31-50</td>\n",
       "      <td>1_110</td>\n",
       "      <td>1</td>\n",
       "      <td>54.90</td>\n",
       "      <td>expensive 20-79</td>\n",
       "      <td>s_89478</td>\n",
       "      <td>39.0</td>\n",
       "      <td>31-50</td>\n",
       "      <td>2021-09-13 21:39:46.845376</td>\n",
       "      <td>21.0</td>\n",
       "      <td>0.0</td>\n",
       "      <td>1</td>\n",
       "      <td>9.0</td>\n",
       "      <td>NaN</td>\n",
       "    </tr>\n",
       "  </tbody>\n",
       "</table>\n",
       "<p>336816 rows × 18 columns</p>\n",
       "</div>"
      ],
      "text/plain": [
       "       custom_id custom_sex  custom_birth  custom_age custom_age_range  \\\n",
       "0         c_4410          f        1967.0        55.0            51-70   \n",
       "1         c_4410          f        1967.0        55.0            51-70   \n",
       "2         c_4410          f        1967.0        55.0            51-70   \n",
       "3         c_4410          f        1967.0        55.0            51-70   \n",
       "4         c_4410          f        1967.0        55.0            51-70   \n",
       "...          ...        ...           ...         ...              ...   \n",
       "336811      c_84          f        1982.0        40.0            31-50   \n",
       "336812      c_84          f        1982.0        40.0            31-50   \n",
       "336813      c_84          f        1982.0        40.0            31-50   \n",
       "336814      c_84          f        1982.0        40.0            31-50   \n",
       "336815      c_84          f        1982.0        40.0            31-50   \n",
       "\n",
       "       prod_id  prod_cat  prod_price prod_price_range transac_sess_id  \\\n",
       "0        1_385         1       25.99  expensive 20-79          s_9707   \n",
       "1       0_1110         0        4.71        cheap 4-9        s_114715   \n",
       "2       0_1111         0       19.99     medium 10-19          s_9707   \n",
       "3        1_461         1       12.99     medium 10-19         s_74236   \n",
       "4        1_536         1       11.21     medium 10-19        s_151740   \n",
       "...        ...       ...         ...              ...             ...   \n",
       "336811  0_1452         0       13.77     medium 10-19         s_92701   \n",
       "336812   1_158         1       22.17  expensive 20-79         s_98493   \n",
       "336813  0_1438         0        9.31        cheap 4-9        s_141701   \n",
       "336814   1_459         1       15.99     medium 10-19        s_166337   \n",
       "336815   1_110         1       54.90  expensive 20-79         s_89478   \n",
       "\n",
       "        transac_acheteur_age transac_acheteur_age_range  \\\n",
       "0                       54.0                      51-70   \n",
       "1                       54.0                      51-70   \n",
       "2                       54.0                      51-70   \n",
       "3                       54.0                      51-70   \n",
       "4                       55.0                      51-70   \n",
       "...                      ...                        ...   \n",
       "336811                  39.0                      31-50   \n",
       "336812                  39.0                      31-50   \n",
       "336813                  39.0                      31-50   \n",
       "336814                  40.0                      31-50   \n",
       "336815                  39.0                      31-50   \n",
       "\n",
       "                     transac_date  transac_hour  transac_weekday  \\\n",
       "0      2021-03-22 01:40:22.782925           1.0              0.0   \n",
       "1      2021-11-04 16:28:30.169021          16.0              3.0   \n",
       "2      2021-03-22 01:27:49.480137           1.0              0.0   \n",
       "3      2021-08-11 08:40:47.495793           8.0              2.0   \n",
       "4      2022-01-18 17:05:07.468131          17.0              1.0   \n",
       "...                           ...           ...              ...   \n",
       "336811 2021-09-20 10:11:35.510099          10.0              0.0   \n",
       "336812 2021-10-01 16:11:20.841361          16.0              4.0   \n",
       "336813 2021-12-29 06:11:50.316631           6.0              2.0   \n",
       "336814 2022-02-17 00:16:56.629536           0.0              3.0   \n",
       "336815 2021-09-13 21:39:46.845376          21.0              0.0   \n",
       "\n",
       "        transac_month_part  transac_month data_info  \n",
       "0                        2            3.0       NaN  \n",
       "1                        0           11.0       NaN  \n",
       "2                        2            3.0       NaN  \n",
       "3                        1            8.0       NaN  \n",
       "4                        2            1.0       NaN  \n",
       "...                    ...            ...       ...  \n",
       "336811                   2            9.0       NaN  \n",
       "336812                   0           10.0       NaN  \n",
       "336813                   3           12.0       NaN  \n",
       "336814                   2            2.0       NaN  \n",
       "336815                   1            9.0       NaN  \n",
       "\n",
       "[336816 rows x 18 columns]"
      ]
     },
     "execution_count": 117,
     "metadata": {},
     "output_type": "execute_result"
    }
   ],
   "source": [
    "transacdata"
   ]
  },
  {
   "cell_type": "code",
   "execution_count": 118,
   "metadata": {
    "scrolled": true
   },
   "outputs": [
    {
     "data": {
      "image/png": "[encoded data removed]",
      "text/plain": [
       "<Figure size 648x216 with 3 Axes>"
      ]
     },
     "metadata": {
      "needs_background": "light"
     },
     "output_type": "display_data"
    },
    {
     "data": {
      "text/plain": [
       "<Figure size 432x288 with 0 Axes>"
      ]
     },
     "metadata": {},
     "output_type": "display_data"
    }
   ],
   "source": [
    "\n",
    "bins = np.linspace(transacdata.transac_acheteur_age.min(), transacdata.transac_acheteur_age.max(), 10)\n",
    "g = sns.FacetGrid(transacdata,col ='prod_cat', hue=\"prod_cat\", palette=\"Set1\")\n",
    "g.map(plt.hist, 'transac_acheteur_age', bins=bins, ec=\"k\")\n",
    "\n",
    "plt.show()\n",
    "plt.savefig('relation age-categ')"
   ]
  },
  {
   "cell_type": "code",
   "execution_count": 162,
   "metadata": {},
   "outputs": [
    {
     "name": "stdout",
     "output_type": "stream",
     "text": [
      "\n",
      "=============\n",
      "ANOVA SUMMARY\n",
      "=============\n",
      "\n",
      "Source      ddof1    ddof2          F    p-unc    np2\n",
      "--------  -------  -------  ---------  -------  -----\n",
      "prod_cat        2   336813  22712.656    0.000  0.119\n",
      "\n"
     ]
    },
    {
     "name": "stderr",
     "output_type": "stream",
     "text": [
      "c:\\users\\philippe\\appdata\\local\\programs\\python\\python38-32\\lib\\site-packages\\outdated\\utils.py:14: OutdatedPackageWarning: The package pingouin is out of date. Your version is 0.3.8, the latest is 0.3.9.\n",
      "Set the environment variable OUTDATED_IGNORE=1 to disable these warnings.\n",
      "  return warn(\n"
     ]
    }
   ],
   "source": [
    "import pingouin as pg\n",
    "\n",
    "aov = pg.anova(dv='custom_age', between='prod_cat', data=transactions\n",
    "               \n",
    "pg.print_table(aov)"
   ]
  },
  {
   "cell_type": "code",
   "execution_count": 164,
   "metadata": {},
   "outputs": [
    {
     "data": {
      "text/plain": [
       "F_onewayResult(statistic=6172.424789427571, pvalue=0.0)"
      ]
     },
     "execution_count": 164,
     "metadata": {},
     "output_type": "execute_result"
    }
   ],
   "source": [
    "df_anova= transacdata[['prod_cat', 'custom_age']]\n",
    "group_anova = df_anova.groupby(['prod_cat'])\n",
    "result = st.f_oneway(group_anova.get_group(0)['custom_age'],group_anova.get_group(1)['custom_age'] )\n",
    "result"
   ]
  },
  {
   "cell_type": "code",
   "execution_count": 165,
   "metadata": {},
   "outputs": [
    {
     "data": {
      "text/plain": [
       "F_onewayResult(statistic=43530.051377614676, pvalue=0.0)"
      ]
     },
     "execution_count": 165,
     "metadata": {},
     "output_type": "execute_result"
    }
   ],
   "source": [
    "df_anova= transacdata[['prod_cat', 'custom_age']]\n",
    "group_anova = df_anova.groupby(['prod_cat'])\n",
    "result = st.f_oneway(group_anova.get_group(0)['custom_age'],group_anova.get_group(2)['custom_age'] )\n",
    "result"
   ]
  },
  {
   "cell_type": "code",
   "execution_count": 166,
   "metadata": {},
   "outputs": [
    {
     "data": {
      "text/plain": [
       "F_onewayResult(statistic=33108.32641720894, pvalue=0.0)"
      ]
     },
     "execution_count": 166,
     "metadata": {},
     "output_type": "execute_result"
    }
   ],
   "source": [
    "df_anova= transacdata[['prod_cat', 'custom_age']]\n",
    "group_anova = df_anova.groupby(['prod_cat'])\n",
    "result = st.f_oneway(group_anova.get_group(1)['custom_age'],group_anova.get_group(2)['custom_age'] )\n",
    "result"
   ]
  },
  {
   "cell_type": "code",
   "execution_count": 168,
   "metadata": {},
   "outputs": [
    {
     "data": {
      "text/plain": [
       "LeveneResult(statistic=13054.05284269035, pvalue=0.0)"
      ]
     },
     "execution_count": 168,
     "metadata": {},
     "output_type": "execute_result"
    }
   ],
   "source": [
    "stats.levene(transacdata['custom_age'][transacdata['prod_cat'] == 0],\n",
    "             transacdata['custom_age'][transacdata['prod_cat'] == 1],\n",
    "             transacdata['custom_age'][transacdata['prod_cat'] == 2])"
   ]
  },
  {
   "cell_type": "code",
   "execution_count": 169,
   "metadata": {},
   "outputs": [
    {
     "data": {
      "text/html": [
       "<table class=\"simpletable\">\n",
       "<caption>OLS Regression Results</caption>\n",
       "<tr>\n",
       "  <th>Dep. Variable:</th>       <td>custom_age</td>    <th>  R-squared:         </th>  <td>   0.119</td>  \n",
       "</tr>\n",
       "<tr>\n",
       "  <th>Model:</th>                   <td>OLS</td>       <th>  Adj. R-squared:    </th>  <td>   0.119</td>  \n",
       "</tr>\n",
       "<tr>\n",
       "  <th>Method:</th>             <td>Least Squares</td>  <th>  F-statistic:       </th>  <td>2.271e+04</td> \n",
       "</tr>\n",
       "<tr>\n",
       "  <th>Date:</th>             <td>Tue, 26 Jan 2021</td> <th>  Prob (F-statistic):</th>   <td>  0.00</td>   \n",
       "</tr>\n",
       "<tr>\n",
       "  <th>Time:</th>                 <td>15:31:18</td>     <th>  Log-Likelihood:    </th> <td>-1.3338e+06</td>\n",
       "</tr>\n",
       "<tr>\n",
       "  <th>No. Observations:</th>      <td>336816</td>      <th>  AIC:               </th>  <td>2.668e+06</td> \n",
       "</tr>\n",
       "<tr>\n",
       "  <th>Df Residuals:</th>          <td>336813</td>      <th>  BIC:               </th>  <td>2.668e+06</td> \n",
       "</tr>\n",
       "<tr>\n",
       "  <th>Df Model:</th>              <td>     2</td>      <th>                     </th>      <td> </td>     \n",
       "</tr>\n",
       "<tr>\n",
       "  <th>Covariance Type:</th>      <td>nonrobust</td>    <th>                     </th>      <td> </td>     \n",
       "</tr>\n",
       "</table>\n",
       "<table class=\"simpletable\">\n",
       "<tr>\n",
       "          <td></td>            <th>coef</th>     <th>std err</th>      <th>t</th>      <th>P>|t|</th>  <th>[0.025</th>    <th>0.975]</th>  \n",
       "</tr>\n",
       "<tr>\n",
       "  <th>Intercept</th>        <td>   43.8981</td> <td>    0.028</td> <td> 1582.839</td> <td> 0.000</td> <td>   43.844</td> <td>   43.952</td>\n",
       "</tr>\n",
       "<tr>\n",
       "  <th>C(prod_cat)[T.1]</th> <td>    3.7610</td> <td>    0.047</td> <td>   79.504</td> <td> 0.000</td> <td>    3.668</td> <td>    3.854</td>\n",
       "</tr>\n",
       "<tr>\n",
       "  <th>C(prod_cat)[T.2]</th> <td>  -18.1700</td> <td>    0.100</td> <td> -182.145</td> <td> 0.000</td> <td>  -18.365</td> <td>  -17.974</td>\n",
       "</tr>\n",
       "</table>\n",
       "<table class=\"simpletable\">\n",
       "<tr>\n",
       "  <th>Omnibus:</th>       <td>23876.885</td> <th>  Durbin-Watson:     </th> <td>   0.241</td> \n",
       "</tr>\n",
       "<tr>\n",
       "  <th>Prob(Omnibus):</th>  <td> 0.000</td>   <th>  Jarque-Bera (JB):  </th> <td>33073.113</td>\n",
       "</tr>\n",
       "<tr>\n",
       "  <th>Skew:</th>           <td> 0.615</td>   <th>  Prob(JB):          </th> <td>    0.00</td> \n",
       "</tr>\n",
       "<tr>\n",
       "  <th>Kurtosis:</th>       <td> 3.919</td>   <th>  Cond. No.          </th> <td>    4.89</td> \n",
       "</tr>\n",
       "</table><br/><br/>Warnings:<br/>[1] Standard Errors assume that the covariance matrix of the errors is correctly specified."
      ],
      "text/plain": [
       "<class 'statsmodels.iolib.summary.Summary'>\n",
       "\"\"\"\n",
       "                            OLS Regression Results                            \n",
       "==============================================================================\n",
       "Dep. Variable:             custom_age   R-squared:                       0.119\n",
       "Model:                            OLS   Adj. R-squared:                  0.119\n",
       "Method:                 Least Squares   F-statistic:                 2.271e+04\n",
       "Date:                Tue, 26 Jan 2021   Prob (F-statistic):               0.00\n",
       "Time:                        15:31:18   Log-Likelihood:            -1.3338e+06\n",
       "No. Observations:              336816   AIC:                         2.668e+06\n",
       "Df Residuals:                  336813   BIC:                         2.668e+06\n",
       "Df Model:                           2                                         \n",
       "Covariance Type:            nonrobust                                         \n",
       "====================================================================================\n",
       "                       coef    std err          t      P>|t|      [0.025      0.975]\n",
       "------------------------------------------------------------------------------------\n",
       "Intercept           43.8981      0.028   1582.839      0.000      43.844      43.952\n",
       "C(prod_cat)[T.1]     3.7610      0.047     79.504      0.000       3.668       3.854\n",
       "C(prod_cat)[T.2]   -18.1700      0.100   -182.145      0.000     -18.365     -17.974\n",
       "==============================================================================\n",
       "Omnibus:                    23876.885   Durbin-Watson:                   0.241\n",
       "Prob(Omnibus):                  0.000   Jarque-Bera (JB):            33073.113\n",
       "Skew:                           0.615   Prob(JB):                         0.00\n",
       "Kurtosis:                       3.919   Cond. No.                         4.89\n",
       "==============================================================================\n",
       "\n",
       "Warnings:\n",
       "[1] Standard Errors assume that the covariance matrix of the errors is correctly specified.\n",
       "\"\"\""
      ]
     },
     "execution_count": 169,
     "metadata": {},
     "output_type": "execute_result"
    }
   ],
   "source": [
    "from statsmodels.formula.api import ols\n",
    "results = ols('custom_age ~ C(prod_cat)', data=transacdata).fit()\n",
    "results.summary()"
   ]
  },
  {
   "cell_type": "code",
   "execution_count": null,
   "metadata": {},
   "outputs": [],
   "source": [
    "Correlation entre le sexe et la categorie de produit"
   ]
  },
  {
   "cell_type": "code",
   "execution_count": 119,
   "metadata": {},
   "outputs": [],
   "source": [
    "t_ss_c_ab = transacdata[~\n",
    "    transacdata.data_info.isin(\n",
    "        [\n",
    "            'custom_special', \n",
    "            'prod_imputation' \n",
    "        ]\n",
    "    )]\n",
    "\n",
    "age_ranges = t_ss_c_ab.custom_age_range.unique()"
   ]
  },
  {
   "cell_type": "code",
   "execution_count": 120,
   "metadata": {},
   "outputs": [],
   "source": [
    "# tableau de contingence avec crosstab\n",
    "tab_cont = pd.crosstab(t_ss_c_ab.prod_cat, t_ss_c_ab.custom_sex)"
   ]
  },
  {
   "cell_type": "code",
   "execution_count": 121,
   "metadata": {},
   "outputs": [
    {
     "data": {
      "text/html": [
       "<div>\n",
       "<style scoped>\n",
       "    .dataframe tbody tr th:only-of-type {\n",
       "        vertical-align: middle;\n",
       "    }\n",
       "\n",
       "    .dataframe tbody tr th {\n",
       "        vertical-align: top;\n",
       "    }\n",
       "\n",
       "    .dataframe thead th {\n",
       "        text-align: right;\n",
       "    }\n",
       "</style>\n",
       "<table border=\"1\" class=\"dataframe\">\n",
       "  <thead>\n",
       "    <tr style=\"text-align: right;\">\n",
       "      <th>custom_sex</th>\n",
       "      <th>f</th>\n",
       "      <th>m</th>\n",
       "    </tr>\n",
       "    <tr>\n",
       "      <th>prod_cat</th>\n",
       "      <th></th>\n",
       "      <th></th>\n",
       "    </tr>\n",
       "  </thead>\n",
       "  <tbody>\n",
       "    <tr>\n",
       "      <th>0</th>\n",
       "      <td>101206</td>\n",
       "      <td>94064</td>\n",
       "    </tr>\n",
       "    <tr>\n",
       "      <th>1</th>\n",
       "      <td>53774</td>\n",
       "      <td>48851</td>\n",
       "    </tr>\n",
       "    <tr>\n",
       "      <th>2</th>\n",
       "      <td>8122</td>\n",
       "      <td>7634</td>\n",
       "    </tr>\n",
       "  </tbody>\n",
       "</table>\n",
       "</div>"
      ],
      "text/plain": [
       "custom_sex       f      m\n",
       "prod_cat                 \n",
       "0           101206  94064\n",
       "1            53774  48851\n",
       "2             8122   7634"
      ]
     },
     "execution_count": 121,
     "metadata": {},
     "output_type": "execute_result"
    }
   ],
   "source": [
    "tab_cont"
   ]
  },
  {
   "cell_type": "code",
   "execution_count": 122,
   "metadata": {},
   "outputs": [],
   "source": [
    "chi2, p, dof, expected = st.chi2_contingency(tab_cont.values)"
   ]
  },
  {
   "cell_type": "code",
   "execution_count": 123,
   "metadata": {},
   "outputs": [
    {
     "data": {
      "text/plain": [
       "10.110865513726571"
      ]
     },
     "execution_count": 123,
     "metadata": {},
     "output_type": "execute_result"
    }
   ],
   "source": [
    "chi2"
   ]
  },
  {
   "cell_type": "code",
   "execution_count": 124,
   "metadata": {},
   "outputs": [
    {
     "data": {
      "text/plain": [
       "0.006374607510181767"
      ]
     },
     "execution_count": 124,
     "metadata": {},
     "output_type": "execute_result"
    }
   ],
   "source": [
    "p"
   ]
  },
  {
   "cell_type": "code",
   "execution_count": 125,
   "metadata": {},
   "outputs": [
    {
     "data": {
      "text/plain": [
       "2"
      ]
     },
     "execution_count": 125,
     "metadata": {},
     "output_type": "execute_result"
    }
   ],
   "source": [
    "dof"
   ]
  },
  {
   "cell_type": "code",
   "execution_count": 126,
   "metadata": {},
   "outputs": [],
   "source": [
    "len_i = tab_cont.shape[0]\n",
    "len_j = tab_cont.shape[1]\n",
    "\n",
    "xij = np.zeros((len_i, len_j))\n",
    "for i in range(len_i):\n",
    "    for j in range(len_j):\n",
    "        xij[i,j] = (tab_cont.values[i,j]-expected[i,j])**2 / expected[i,j]"
   ]
  },
  {
   "cell_type": "code",
   "execution_count": 127,
   "metadata": {},
   "outputs": [
    {
     "name": "stdout",
     "output_type": "stream",
     "text": [
      "Xi_n = 10.110865513726571\n"
     ]
    },
    {
     "data": {
      "image/png": "[encoded data removed]",
      "text/plain": [
       "<Figure size 432x288 with 2 Axes>"
      ]
     },
     "metadata": {
      "needs_background": "light"
     },
     "output_type": "display_data"
    }
   ],
   "source": [
    "\n",
    "sns.heatmap(xij / chi2, \n",
    "            annot=tab_cont,\n",
    "            fmt='d',\n",
    "            yticklabels=[f'cat. {x}' for x in tab_cont.index],\n",
    "            xticklabels=['femmes', 'hommes'])\n",
    "plt.plot()\n",
    "\n",
    "print(f\"Xi_n = {xij.sum()}\")"
   ]
  },
  {
   "cell_type": "markdown",
   "metadata": {},
   "source": [
    "Age et montant des achats"
   ]
  },
  {
   "cell_type": "code",
   "execution_count": 128,
   "metadata": {},
   "outputs": [
    {
     "data": {
      "text/html": [
       "<div>\n",
       "<style scoped>\n",
       "    .dataframe tbody tr th:only-of-type {\n",
       "        vertical-align: middle;\n",
       "    }\n",
       "\n",
       "    .dataframe tbody tr th {\n",
       "        vertical-align: top;\n",
       "    }\n",
       "\n",
       "    .dataframe thead th {\n",
       "        text-align: right;\n",
       "    }\n",
       "</style>\n",
       "<table border=\"1\" class=\"dataframe\">\n",
       "  <thead>\n",
       "    <tr style=\"text-align: right;\">\n",
       "      <th></th>\n",
       "      <th>custom_id</th>\n",
       "      <th>custom_age</th>\n",
       "      <th>custom_age_range</th>\n",
       "      <th>amount</th>\n",
       "    </tr>\n",
       "  </thead>\n",
       "  <tbody>\n",
       "    <tr>\n",
       "      <th>1969</th>\n",
       "      <td>c_2774</td>\n",
       "      <td>58.0</td>\n",
       "      <td>51-70</td>\n",
       "      <td>259.58</td>\n",
       "    </tr>\n",
       "  </tbody>\n",
       "</table>\n",
       "</div>"
      ],
      "text/plain": [
       "     custom_id  custom_age custom_age_range  amount\n",
       "1969    c_2774        58.0            51-70  259.58"
      ]
     },
     "execution_count": 128,
     "metadata": {},
     "output_type": "execute_result"
    }
   ],
   "source": [
    "\n",
    "df = t_ss_c_ab[['custom_id', 'custom_age', 'prod_price', 'custom_age_range']]\n",
    "\n",
    "df = df.groupby('custom_id').agg({\n",
    "    'custom_age': lambda x:x.mode(),\n",
    "    'custom_age_range': lambda x:x.mode(),\n",
    "    'prod_price':'sum'}\n",
    ").reset_index()\n",
    "df.columns = ['custom_id', 'custom_age', 'custom_age_range', 'amount']\n",
    "\n",
    "df.sample()"
   ]
  },
  {
   "cell_type": "code",
   "execution_count": 129,
   "metadata": {},
   "outputs": [],
   "source": [
    "df2 = df.groupby('custom_age').agg({'amount': 'mean'}).reset_index()"
   ]
  },
  {
   "cell_type": "code",
   "execution_count": 130,
   "metadata": {},
   "outputs": [],
   "source": [
    "\n",
    "X = df2.custom_age.values\n",
    "y = df2.amount.values"
   ]
  },
  {
   "cell_type": "code",
   "execution_count": 131,
   "metadata": {},
   "outputs": [],
   "source": [
    "\n",
    "X_sm =  sm.add_constant(X)\n",
    "model = sm.OLS(y, X_sm).fit()\n",
    "\n",
    "\n",
    "rsquare = model.rsquared\n",
    "pval = model.pvalues[0]"
   ]
  },
  {
   "cell_type": "code",
   "execution_count": 133,
   "metadata": {},
   "outputs": [
    {
     "name": "stdout",
     "output_type": "stream",
     "text": [
      "R-carré=0.56 & p-valeur=0.00\n"
     ]
    }
   ],
   "source": [
    "print(f\"R-carré={rsquare:.2f} & p-valeur={pval:.2f}\")"
   ]
  },
  {
   "cell_type": "code",
   "execution_count": 135,
   "metadata": {},
   "outputs": [
    {
     "name": "stdout",
     "output_type": "stream",
     "text": [
      "R-carré=0.56 & p-valeur=0.00\n"
     ]
    },
    {
     "data": {
      "image/png": "[encoded data removed]",
      "text/plain": [
       "<Figure size 360x360 with 1 Axes>"
      ]
     },
     "metadata": {
      "needs_background": "light"
     },
     "output_type": "display_data"
    }
   ],
   "source": [
    "plt.figure(figsize=(5,5))\n",
    "plt.plot(X, y, '.')\n",
    "plt.plot(X, model.predict(X_sm), 'y--')\n",
    "plt.xlabel('age')\n",
    "plt.ylabel('dépense moyenne sur l\\'année')\n",
    "print(f\"R-carré={rsquare:.2f} & p-valeur={pval:.2f}\")\n",
    "plt.savefig('age-depenses sur annee')"
   ]
  },
  {
   "cell_type": "markdown",
   "metadata": {},
   "source": [
    "avec l'age sous forme qualitative"
   ]
  },
  {
   "cell_type": "code",
   "execution_count": 137,
   "metadata": {},
   "outputs": [],
   "source": [
    "age_ranges_amount = {age_range: df.loc[df.custom_age_range==age_range, 'amount'] for age_range in age_ranges}"
   ]
  },
  {
   "cell_type": "code",
   "execution_count": 139,
   "metadata": {},
   "outputs": [
    {
     "data": {
      "image/png": "[encoded data removed]",
      "text/plain": [
       "<Figure size 360x360 with 1 Axes>"
      ]
     },
     "metadata": {
      "needs_background": "light"
     },
     "output_type": "display_data"
    },
    {
     "data": {
      "text/plain": [
       "<Figure size 432x288 with 0 Axes>"
      ]
     },
     "metadata": {},
     "output_type": "display_data"
    }
   ],
   "source": [
    "plt.figure(figsize=(5,5))\n",
    "plt.boxplot([\n",
    "    age_ranges_amount['30-'],\n",
    "    age_ranges_amount['31-50'],\n",
    "    age_ranges_amount['51-70'],\n",
    "    age_ranges_amount['71+']\n",
    "], vert=False, showmeans=True, showfliers=False)\n",
    "\n",
    "plt.xlabel(\"montant d'achats total annuel (moyenne)\")\n",
    "plt.yticks([1,2,3,4], ['30-', '31-50', '51-70', '71+'])\n",
    "plt.show()\n",
    "plt.savefig('montant achats total annuel')"
   ]
  },
  {
   "cell_type": "code",
   "execution_count": 192,
   "metadata": {},
   "outputs": [],
   "source": [
    "\n",
    "f, p = st.f_oneway(\n",
    "    age_ranges_amount['30-'],\n",
    "    age_ranges_amount['31-50'],\n",
    "    age_ranges_amount['51-70'],\n",
    "    age_ranges_amount['71+']\n",
    ")"
   ]
  },
  {
   "cell_type": "code",
   "execution_count": 193,
   "metadata": {},
   "outputs": [
    {
     "name": "stdout",
     "output_type": "stream",
     "text": [
      "la f-valeur vaut 267.65 et la p-valeur vaut 4.46e-166.\n"
     ]
    }
   ],
   "source": [
    "print(f'la f-valeur vaut {f:.2f} et la p-valeur vaut {p:.2e}.')"
   ]
  },
  {
   "cell_type": "code",
   "execution_count": 194,
   "metadata": {},
   "outputs": [],
   "source": [
    "def eta2(df, quant, qual):\n",
    "    \n",
    "    class_valeurs = []\n",
    "    for c in  df[quant].unique():\n",
    "        class_valeurs.append(df.loc[df[quant]==c, qual].values)\n",
    "   \n",
    "    y =  np.concatenate(class_valeurs)\n",
    "    moyenne_y = y.mean()\n",
    "\n",
    "    class_info = []\n",
    "    for y_i in class_valeurs:\n",
    "        class_info.append({\n",
    "            'n_i': len(y_i),\n",
    "            'moyenne_i': y_i.mean()\n",
    "        })\n",
    "        \n",
    "    SCE = sum([ c['n_i'] * (c['moyenne_i'] - moyenne_y)**2 for c in class_info])\n",
    "    SCT = sum([(y_ij - moyenne_y)**2 for y_ij in y])\n",
    "    \n",
    "    return SCE / SCT"
   ]
  },
  {
   "cell_type": "code",
   "execution_count": 196,
   "metadata": {},
   "outputs": [
    {
     "data": {
      "text/plain": [
       "0.0854661569829454"
      ]
     },
     "execution_count": 196,
     "metadata": {},
     "output_type": "execute_result"
    }
   ],
   "source": [
    "eta2(df, 'custom_age_range', 'amount')"
   ]
  },
  {
   "cell_type": "markdown",
   "metadata": {},
   "source": [
    "FREQUENCE d'achat"
   ]
  },
  {
   "cell_type": "code",
   "execution_count": 198,
   "metadata": {
    "scrolled": true
   },
   "outputs": [
    {
     "data": {
      "text/html": [
       "<div>\n",
       "<style scoped>\n",
       "    .dataframe tbody tr th:only-of-type {\n",
       "        vertical-align: middle;\n",
       "    }\n",
       "\n",
       "    .dataframe tbody tr th {\n",
       "        vertical-align: top;\n",
       "    }\n",
       "\n",
       "    .dataframe thead th {\n",
       "        text-align: right;\n",
       "    }\n",
       "</style>\n",
       "<table border=\"1\" class=\"dataframe\">\n",
       "  <thead>\n",
       "    <tr style=\"text-align: right;\">\n",
       "      <th></th>\n",
       "      <th>custom_id</th>\n",
       "      <th>custom_age</th>\n",
       "      <th>custom_age_range</th>\n",
       "      <th>nb_achat_mois_moy</th>\n",
       "    </tr>\n",
       "  </thead>\n",
       "  <tbody>\n",
       "    <tr>\n",
       "      <th>5330</th>\n",
       "      <td>c_1017</td>\n",
       "      <td>47.0</td>\n",
       "      <td>31-50</td>\n",
       "      <td>7.181818</td>\n",
       "    </tr>\n",
       "  </tbody>\n",
       "</table>\n",
       "</div>"
      ],
      "text/plain": [
       "     custom_id  custom_age custom_age_range  nb_achat_mois_moy\n",
       "5330    c_1017        47.0            31-50           7.181818"
      ]
     },
     "execution_count": 198,
     "metadata": {},
     "output_type": "execute_result"
    }
   ],
   "source": [
    "df = t_ss_c_ab[['custom_id', 'custom_age', 'custom_age_range', 'transac_month', 'prod_id']]\n",
    "\n",
    "\n",
    "custom_ages = df[['custom_id', 'custom_age', 'custom_age_range']].drop_duplicates()\n",
    "\n",
    "\n",
    "nb_achats = df[['custom_id', 'transac_month', 'prod_id']]\n",
    "\n",
    "nb_achats = nb_achats.groupby(['custom_id', 'transac_month']).agg({'prod_id': 'count'}).reset_index()\n",
    "nb_achats.columns = ['custom_id', 'transac_month', 'total_achat']\n",
    "\n",
    "nb_achats = nb_achats.groupby('custom_id').agg({'total_achat': 'mean'}).reset_index()\n",
    "nb_achats.columns = ['custom_id', 'nb_achat_mois_moy']\n",
    "\n",
    "\n",
    "df2 = pd.merge(custom_ages, nb_achats, on='custom_id')\n",
    "\n",
    "df2.sample()"
   ]
  },
  {
   "cell_type": "code",
   "execution_count": 199,
   "metadata": {},
   "outputs": [],
   "source": [
    "df3 = df2.groupby('custom_age').agg({'nb_achat_mois_moy': 'mean'}).reset_index()"
   ]
  },
  {
   "cell_type": "code",
   "execution_count": 200,
   "metadata": {},
   "outputs": [],
   "source": [
    "\n",
    "\n",
    "X = df3.custom_age.values\n",
    "y = df3.nb_achat_mois_moy.values"
   ]
  },
  {
   "cell_type": "code",
   "execution_count": 201,
   "metadata": {},
   "outputs": [],
   "source": [
    "\n",
    "X_sm =  sm.add_constant(X)\n",
    "model = sm.OLS(y, X_sm).fit()\n",
    "\n",
    "\n",
    "rsquare = model.rsquared\n",
    "pval = model.pvalues[0]"
   ]
  },
  {
   "cell_type": "code",
   "execution_count": 202,
   "metadata": {},
   "outputs": [
    {
     "name": "stdout",
     "output_type": "stream",
     "text": [
      "R-carré=0.10 & p-valeur=0.00\n"
     ]
    },
    {
     "data": {
      "image/png": "[encoded data removed]",
      "text/plain": [
       "<Figure size 360x360 with 1 Axes>"
      ]
     },
     "metadata": {
      "needs_background": "light"
     },
     "output_type": "display_data"
    }
   ],
   "source": [
    "plt.figure(figsize=(5,5))\n",
    "plt.plot(X, y, '.')\n",
    "plt.plot(X, model.predict(X_sm), 'y--')\n",
    "plt.xlabel('age')\n",
    "plt.ylabel(\"Nombre d'achats par mois (moyenne)\")\n",
    "plt.plot()\n",
    "\n",
    "print(f\"R-carré={rsquare:.2f} & p-valeur={pval:.2f}\")"
   ]
  },
  {
   "cell_type": "markdown",
   "metadata": {},
   "source": [
    "la taille du panier moyen"
   ]
  },
  {
   "cell_type": "code",
   "execution_count": 203,
   "metadata": {},
   "outputs": [
    {
     "data": {
      "text/html": [
       "<div>\n",
       "<style scoped>\n",
       "    .dataframe tbody tr th:only-of-type {\n",
       "        vertical-align: middle;\n",
       "    }\n",
       "\n",
       "    .dataframe tbody tr th {\n",
       "        vertical-align: top;\n",
       "    }\n",
       "\n",
       "    .dataframe thead th {\n",
       "        text-align: right;\n",
       "    }\n",
       "</style>\n",
       "<table border=\"1\" class=\"dataframe\">\n",
       "  <thead>\n",
       "    <tr style=\"text-align: right;\">\n",
       "      <th></th>\n",
       "      <th>custom_id</th>\n",
       "      <th>custom_age</th>\n",
       "      <th>custom_age_range</th>\n",
       "      <th>panier_moy</th>\n",
       "    </tr>\n",
       "  </thead>\n",
       "  <tbody>\n",
       "    <tr>\n",
       "      <th>7608</th>\n",
       "      <td>c_2355</td>\n",
       "      <td>57.0</td>\n",
       "      <td>51-70</td>\n",
       "      <td>1.6</td>\n",
       "    </tr>\n",
       "  </tbody>\n",
       "</table>\n",
       "</div>"
      ],
      "text/plain": [
       "     custom_id  custom_age custom_age_range  panier_moy\n",
       "7608    c_2355        57.0            51-70         1.6"
      ]
     },
     "execution_count": 203,
     "metadata": {},
     "output_type": "execute_result"
    }
   ],
   "source": [
    "df = t_ss_c_ab[['custom_id', 'custom_age', 'custom_age_range', 'transac_sess_id', 'prod_id']]\n",
    "\n",
    "c_ages = df[['custom_id', 'custom_age', 'custom_age_range']].drop_duplicates()\n",
    "\n",
    "panier_moy = df[['custom_id', 'transac_sess_id', 'prod_id']]\n",
    "\n",
    "panier_moy = panier_moy.groupby(['custom_id', 'transac_sess_id']).count().reset_index()\n",
    "panier_moy.columns = ['custom_id', 'transac_sess_id', 'nb_prods']\n",
    "\n",
    "panier_moy = panier_moy.groupby('custom_id').agg({'nb_prods': 'mean'}).reset_index()\n",
    "panier_moy.columns = ['custom_id', 'panier_moy']\n",
    "\n",
    "df2 = pd.merge(c_ages, panier_moy, on='custom_id')\n",
    "df2.sample()"
   ]
  },
  {
   "cell_type": "code",
   "execution_count": 204,
   "metadata": {},
   "outputs": [],
   "source": [
    "df3 = df2.groupby('custom_age').agg({'panier_moy': 'mean'}).reset_index()"
   ]
  },
  {
   "cell_type": "code",
   "execution_count": 205,
   "metadata": {},
   "outputs": [],
   "source": [
    "\n",
    "X = df3.custom_age.values\n",
    "y = df3.panier_moy.values"
   ]
  },
  {
   "cell_type": "code",
   "execution_count": 206,
   "metadata": {},
   "outputs": [],
   "source": [
    "\n",
    "X_sm =  sm.add_constant(X)\n",
    "model = sm.OLS(y, X_sm).fit()\n",
    "\n",
    "\n",
    "rsquare = model.rsquared\n",
    "pval = model.pvalues[0]"
   ]
  },
  {
   "cell_type": "code",
   "execution_count": null,
   "metadata": {},
   "outputs": [],
   "source": []
  },
  {
   "cell_type": "code",
   "execution_count": 207,
   "metadata": {},
   "outputs": [
    {
     "name": "stdout",
     "output_type": "stream",
     "text": [
      "R-carré=0.32 & p-valeur=0.00\n"
     ]
    },
    {
     "data": {
      "image/png": "[encoded data removed]",
      "text/plain": [
       "<Figure size 360x360 with 1 Axes>"
      ]
     },
     "metadata": {
      "needs_background": "light"
     },
     "output_type": "display_data"
    }
   ],
   "source": [
    "plt.figure(figsize=(5,5))\n",
    "plt.plot(X, y, '.')\n",
    "plt.plot(X, model.predict(X_sm), 'y--')\n",
    "plt.xlabel('age')\n",
    "plt.ylabel(\"panier moyen\")\n",
    "plt.plot()\n",
    "\n",
    "print(f\"R-carré={rsquare:.2f} & p-valeur={pval:.2f}\")"
   ]
  },
  {
   "cell_type": "markdown",
   "metadata": {},
   "source": [
    "les catégories de produits achetés"
   ]
  },
  {
   "cell_type": "code",
   "execution_count": 208,
   "metadata": {},
   "outputs": [],
   "source": [
    "df = t_ss_c_ab"
   ]
  },
  {
   "cell_type": "code",
   "execution_count": 213,
   "metadata": {},
   "outputs": [
    {
     "data": {
      "text/plain": [
       "array([1, 0, 2], dtype=int64)"
      ]
     },
     "execution_count": 213,
     "metadata": {},
     "output_type": "execute_result"
    }
   ],
   "source": [
    "cats = t_ss_c_ab.prod_cat.unique()\n",
    "cats"
   ]
  },
  {
   "cell_type": "code",
   "execution_count": 214,
   "metadata": {
    "scrolled": true
   },
   "outputs": [],
   "source": [
    "cat_ages = {cat: t_ss_c_ab.loc[t_ss_c_ab['prod_cat']==cat, 'transac_acheteur_age'] for cat in cats}"
   ]
  },
  {
   "cell_type": "code",
   "execution_count": 215,
   "metadata": {},
   "outputs": [
    {
     "data": {
      "image/png": "[encoded data removed]",
      "text/plain": [
       "<Figure size 432x288 with 1 Axes>"
      ]
     },
     "metadata": {
      "needs_background": "light"
     },
     "output_type": "display_data"
    }
   ],
   "source": [
    "plt.boxplot([\n",
    "    cat_ages[0],\n",
    "    cat_ages[1],\n",
    "    cat_ages[2]\n",
    "],\n",
    "    labels=['cat. 0', 'cat. 1', 'cat. 2'],\n",
    "    vert=False, showmeans=True, showfliers=False\n",
    ")\n",
    "plt.xlabel('age')\n",
    "plt.show()"
   ]
  },
  {
   "cell_type": "code",
   "execution_count": 216,
   "metadata": {},
   "outputs": [
    {
     "name": "stdout",
     "output_type": "stream",
     "text": [
      "la f-valeur vaut 19993.38 et la p-valeur vaut 0.0.\n"
     ]
    }
   ],
   "source": [
    "f, p = st.f_oneway(cat_ages[0], cat_ages[1], cat_ages[2])\n",
    "\n",
    "print(f'la f-valeur vaut {f:.2f} et la p-valeur vaut {p}.')"
   ]
  },
  {
   "cell_type": "code",
   "execution_count": 218,
   "metadata": {},
   "outputs": [
    {
     "data": {
      "text/plain": [
       "0.26616936967591126"
      ]
     },
     "execution_count": 218,
     "metadata": {},
     "output_type": "execute_result"
    }
   ],
   "source": [
    "eta2(df, 'custom_age_range', 'prod_cat')"
   ]
  },
  {
   "cell_type": "code",
   "execution_count": 220,
   "metadata": {},
   "outputs": [],
   "source": [
    "\n",
    "tab_cont = pd.crosstab(t_ss_c_ab.prod_cat, t_ss_c_ab.custom_age_range)"
   ]
  },
  {
   "cell_type": "code",
   "execution_count": 221,
   "metadata": {},
   "outputs": [],
   "source": [
    "\n",
    "chi2, p, dof, expected = st.chi2_contingency(tab_cont.values)"
   ]
  },
  {
   "cell_type": "code",
   "execution_count": 222,
   "metadata": {},
   "outputs": [
    {
     "name": "stdout",
     "output_type": "stream",
     "text": [
      "Le khi-2 est de 137138.13 et la p-val est de 0.0\n"
     ]
    }
   ],
   "source": [
    "print(f'Le khi-2 est de {chi2:.2f} et la p-val est de {p}')"
   ]
  },
  {
   "cell_type": "code",
   "execution_count": null,
   "metadata": {},
   "outputs": [],
   "source": []
  },
  {
   "cell_type": "code",
   "execution_count": null,
   "metadata": {},
   "outputs": [],
   "source": []
  }
 ],
 "metadata": {
  "kernelspec": {
   "display_name": "Python 3",
   "language": "python",
   "name": "python3"
  },
  "language_info": {
   "codemirror_mode": {
    "name": "ipython",
    "version": 3
   },
   "file_extension": ".py",
   "mimetype": "text/x-python",
   "name": "python",
   "nbconvert_exporter": "python",
   "pygments_lexer": "ipython3",
   "version": "3.8.0"
  }
 },
 "nbformat": 4,
 "nbformat_minor": 4
}
